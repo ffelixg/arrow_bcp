{
 "cells": [
  {
   "cell_type": "markdown",
   "id": "9f0d1725",
   "metadata": {},
   "source": [
    "This benchmark shows advantages of using bcp over odbc. It is quite crude, however, and in practice the results may vary strongly depending on your SQL Server version, the number/kind of indexes on a table, the connectivity to the database and the difference in scale between the ETL server and SQL Server among other factors. That being said, I would expect similar tendencies.\n",
    "\n",
    "# Imports & Connection setup"
   ]
  },
  {
   "cell_type": "code",
   "execution_count": null,
   "id": "db22c5ad-9510-4079-8fe9-af7789bd92c4",
   "metadata": {},
   "outputs": [],
   "source": [
    "%pip install pyodbc pandas matplotlib"
   ]
  },
  {
   "cell_type": "code",
   "execution_count": 2,
   "id": "cf672954-de5f-48c1-b651-531cdd1231ec",
   "metadata": {},
   "outputs": [],
   "source": [
    "import arrow_bcp as ab\n",
    "import pyarrow as pa\n",
    "import pyodbc\n",
    "import pandas as pd\n",
    "import random\n",
    "import datetime\n",
    "from decimal import Decimal\n",
    "import time\n",
    "import timeit"
   ]
  },
  {
   "cell_type": "markdown",
   "id": "06938042-3e76-46ee-8aa8-2937f4a6afea",
   "metadata": {},
   "source": [
    "Database connection details need to be filled in"
   ]
  },
  {
   "cell_type": "code",
   "execution_count": 3,
   "id": "fae4da8d-e322-4bf8-a59a-7828dba2e905",
   "metadata": {},
   "outputs": [],
   "source": [
    "SQL_URL = \"##########\"\n",
    "SQL_DB = \"##########\"\n",
    "SQL_LOGIN = \"##########\"\n",
    "SQL_PWD = \"##########\""
   ]
  },
  {
   "cell_type": "code",
   "execution_count": 4,
   "id": "d57d2078",
   "metadata": {},
   "outputs": [],
   "source": [
    "NR_ROWS = 200_000\n",
    "NR_BATCHES = 1\n",
    "NR_REPS = 5"
   ]
  },
  {
   "cell_type": "code",
   "execution_count": 5,
   "id": "57332f9e-2b8b-4940-a429-e539de2b8274",
   "metadata": {},
   "outputs": [],
   "source": [
    "pyodbc_con = pyodbc.connect(\n",
    "    f\"DRIVER={{ODBC Driver 17 for SQL Server}};SERVER={SQL_URL};DATABASE={SQL_DB};UID={SQL_LOGIN};PWD={SQL_PWD}\"\n",
    ")\n",
    "bcp_con = ab.ConnectionInfo(\n",
    "    (f\"-S tcp:{SQL_URL},1433 -d {SQL_DB} -U {SQL_LOGIN} -P {SQL_PWD}\").split()\n",
    ")\n",
    "bcp_con_tablock = ab.ConnectionInfo(\n",
    "    (f\"-S tcp:{SQL_URL},1433 -d {SQL_DB} -U {SQL_LOGIN} -P {SQL_PWD} -h TABLOCK\").split()\n",
    ")"
   ]
  },
  {
   "cell_type": "markdown",
   "id": "bebe1a78-cc79-4ded-a723-b8bc0dd82390",
   "metadata": {},
   "source": [
    "# Generate random data"
   ]
  },
  {
   "cell_type": "code",
   "execution_count": 6,
   "id": "bbf621bf-c094-4511-ba71-beba32fa9b32",
   "metadata": {},
   "outputs": [],
   "source": [
    "alphabet = [\n",
    "    chr(code_point) for current_range in [\n",
    "        (0x0021, 0x0021),\n",
    "        (0x0023, 0x0026),\n",
    "        (0x0028, 0x007E),\n",
    "        (0x00A1, 0x00AC),\n",
    "        (0x00AE, 0x00FF),\n",
    "        (0x0100, 0x017F),\n",
    "        (0x0180, 0x024F),\n",
    "        (0x2C60, 0x2C7F),\n",
    "        (0x16A0, 0x16F0),\n",
    "        (0x0370, 0x0377),\n",
    "        (0x037A, 0x037E),\n",
    "        (0x0384, 0x038A),\n",
    "        (0x038C, 0x038C),\n",
    "    ]\n",
    "    for code_point in range(current_range[0], current_range[1] + 1)\n",
    "]\n",
    "def random_utf8(length):\n",
    "    return ''.join(random.choices(alphabet, k=length))\n",
    "\n",
    "dmin, dmax = pa.array([datetime.date(1,1,1), datetime.date(9999,12,31)], type=pa.date32()).cast(pa.int32()).to_pylist()\n",
    "tmin, tmax = pa.array([0, datetime.time(23,59,59,999999)], type=pa.time64('us')).cast(pa.int64()).to_pylist()\n",
    "dtmin, dtmax = pa.array([datetime.datetime(1,1,1), datetime.datetime(9999,12,31,23,59,59,999999)], type=pa.timestamp(\"us\")).cast(pa.int64()).to_pylist()\n",
    "\n",
    "gen_fns = {\n",
    "    \"bigint\": (\"bigint\", pa.int64(), lambda x: min(2**63 * (2 * x - 1), 2**63-1)),\n",
    "    \"int\": (\"int\", pa.uint16(), lambda x: (2**16 - 1) * x),\n",
    "    \"bit\": (\"bit\", pa.bool_(), lambda x: x >= 0.5),\n",
    "    \"decimal\": (\"decimal(15, 10)\", pa.decimal128(15, 10), lambda x: Decimal(((2 * x - 1) * (10**15 - 1)) // 1) / 10**10),\n",
    "    \"float\": (\"float\", pa.float64(), lambda x: (1 if x >= 0.5 else -1) * (x + 1) * 2.0 ** ( 511 * (2 * x - 1))),\n",
    "    \"date\": (\"date\", pa.date32(), lambda x: x * (dmax - dmin) + dmin),\n",
    "    \"time\": (\"time\", pa.time64(\"us\"), lambda x: x * (tmax - tmin) + tmin),\n",
    "    \"datetime2\": (\"datetime2\", pa.timestamp(\"us\"), lambda x: x * (dtmax - dtmin) + dtmin),\n",
    "    \"unicode\": (\"nvarchar(max)\", pa.string(), lambda x: random_utf8(int(x**4 * 4000))),\n",
    "    \"chars_of_length_4000\": (\"nvarchar(max)\", pa.string(), lambda x: random_utf8(4000)),\n",
    "    \"chars_of_length_4001\": (\"nvarchar(max)\", pa.string(), lambda x: random_utf8(4001)),\n",
    "}\n",
    "\n",
    "arrays = []\n",
    "for _, tp, fn in gen_fns.values():\n",
    "    vals = [\n",
    "        None if random.random() > 0.75 else\n",
    "        fn(random.random()) for _ in range(NR_ROWS - 3)\n",
    "    ]\n",
    "    vals.insert(random.choice(range(len(vals))), fn(1))\n",
    "    vals.insert(random.choice(range(len(vals))), fn(0.5))\n",
    "    vals.insert(random.choice(range(len(vals))), fn(0))\n",
    "    arrays.append(pa.array(vals, type=tp))\n",
    "\n",
    "batch_complete = pa.record_batch(arrays, names=list(gen_fns.keys()))"
   ]
  },
  {
   "cell_type": "markdown",
   "id": "948b352c",
   "metadata": {},
   "source": [
    "# Set up benchmarking procedure"
   ]
  },
  {
   "cell_type": "code",
   "execution_count": 7,
   "id": "207c94c8-3ebb-4ea6-9bbd-57b8eda0ab07",
   "metadata": {},
   "outputs": [],
   "source": [
    "def setup(cols: list[str]):\n",
    "    \"Reset table in database\"\n",
    "    def f():\n",
    "        pyodbc_con.execute(f\"\"\"\n",
    "            drop table if exists test\n",
    "            create table test(\n",
    "                {\", \".join(col + \" \" + gen_fns[col][0] for col in cols)}\n",
    "            )\n",
    "        \"\"\")\n",
    "        pyodbc_con.commit()\n",
    "    return f\n",
    "\n",
    "def time_pyodbc(tablock: bool, cols: list[str], n_rows: int):\n",
    "    batch = batch_complete[:n_rows].select(cols)\n",
    "    # pyodbc consumes python datatypes, we don't want to time this so we convert ahead of time\n",
    "    batch_as_tuples = [tuple(row.values()) for row in batch.to_pylist()]\n",
    "\n",
    "    # pyodbc has the real advantage of being able to cache connections and cursors / statement handles\n",
    "    # so we don't time the connection setup\n",
    "    cur = pyodbc_con.cursor()\n",
    "    cur.fast_executemany = True\n",
    "    def f():\n",
    "        cur.executemany(f\"\"\"\n",
    "            insert into test{\" with(TABLOCK)\" if tablock else \"\"}\n",
    "            values ({\", \".join(\"?\"*len(cols))})\n",
    "        \"\"\", batch_as_tuples)\n",
    "        pyodbc_con.commit()\n",
    "    return f\n",
    "\n",
    "def time_bcp(tablock: bool, cols: list[str], n_rows: int):\n",
    "    batch = batch_complete[:n_rows].select(cols)\n",
    "\n",
    "    def f():\n",
    "        (bcp_con_tablock if tablock else bcp_con).insert_arrow(\"test\", [batch])\n",
    "    return f"
   ]
  },
  {
   "cell_type": "code",
   "execution_count": 8,
   "id": "e9dfcf79",
   "metadata": {},
   "outputs": [],
   "source": [
    "class Timer:\n",
    "    \"Dummy class to make timeit measure process time and perf counter simultaneously\"\n",
    "    def __init__(self, proc, perf):\n",
    "        self.proc = proc\n",
    "        self.perf = perf\n",
    "    def time():\n",
    "        return Timer(time.process_time(), time.perf_counter())\n",
    "    def __sub__(self, other):\n",
    "        return Timer(self.proc - other.proc, self.perf - other.perf)"
   ]
  },
  {
   "cell_type": "code",
   "execution_count": 9,
   "id": "992853f4",
   "metadata": {},
   "outputs": [],
   "source": [
    "def benchmark(columns: list[str], tablock: bool, n_rows: int, all_columns: bool):\n",
    "    \"Perform the benchmark and generate a plotly figure\"\n",
    "    bcp_perf = {}\n",
    "    bcp_proc = {}\n",
    "    pyodbc_perf = {}\n",
    "    pyodbc_proc = {}\n",
    "\n",
    "    for col in columns:\n",
    "        t_bcp = timeit.timeit(\n",
    "            stmt=time_bcp(tablock, [col], n_rows),\n",
    "            setup=setup([col]),\n",
    "            timer=Timer.time,\n",
    "            number=NR_REPS,\n",
    "        )\n",
    "        bcp_perf[f\"Only {col}\"] = t_bcp.perf\n",
    "        bcp_proc[f\"Only {col}\"] = t_bcp.proc\n",
    "\n",
    "        t_pyodbc = timeit.timeit(\n",
    "            stmt=time_pyodbc(tablock, [col], n_rows),\n",
    "            setup=setup([col]),\n",
    "            timer=Timer.time,\n",
    "            number=NR_REPS,\n",
    "        )\n",
    "\n",
    "        pyodbc_perf[f\"Only {col}\"] = t_pyodbc.perf\n",
    "        pyodbc_proc[f\"Only {col}\"] = t_pyodbc.proc\n",
    "        print(\".\", end=\"\")\n",
    "\n",
    "    if all_columns:\n",
    "        t_bcp = timeit.timeit(\n",
    "            stmt=time_bcp(tablock, columns, n_rows),\n",
    "            setup=setup(columns),\n",
    "            timer=Timer.time,\n",
    "            number=NR_REPS,\n",
    "        )\n",
    "        bcp_perf[\"All columns\"] = t_bcp.perf\n",
    "        bcp_proc[\"All columns\"] = t_bcp.proc\n",
    "\n",
    "        t_pyodbc = timeit.timeit(\n",
    "            stmt=time_pyodbc(tablock, columns, n_rows),\n",
    "            setup=setup(columns),\n",
    "            timer=Timer.time,\n",
    "            number=NR_REPS,\n",
    "        )\n",
    "\n",
    "        pyodbc_perf[\"All columns\"] = t_pyodbc.perf\n",
    "        pyodbc_proc[\"All columns\"] = t_pyodbc.proc\n",
    "\n",
    "    df = pd.DataFrame({\n",
    "        \"Elapsed bcp\": bcp_perf,\n",
    "        \"Elapsed pyodbc\": pyodbc_perf,\n",
    "        \"CPU bcp\": bcp_proc,\n",
    "        \"CPU pyodbc\": pyodbc_proc,\n",
    "    })\n",
    "    df.plot(kind=\"barh\", figsize=[12, 6])\n",
    "    return df.T"
   ]
  },
  {
   "cell_type": "markdown",
   "id": "f502e6bc",
   "metadata": {},
   "source": [
    "# Results\n",
    "\n",
    "## Normal case\n",
    "\n",
    "The first benchmark represents a typical workload intended for this module\n",
    "\n",
    "From the difference between perf/elapsed time and proc/CPU time spent in both bcp and pyodbc benchmarks, we can see that most of the time is not eaten up by the CPU running the notebook. This indicates that the reason pyodbc is slower has nothing to do with the fact that it is using python data types, which are generally slower.\n",
    "\n",
    "Instead most of the time is spent on the SQL Server side, which, in the case of pyodbc has a very high CPU utilization, as it's trying to figure out how to insert the data and log the inserts.\n",
    "\n",
    "Having looked at the odbc specification and pyodbc implementation for quite a bit, I think that pyodbc handles inserts about as well as the specification allows."
   ]
  },
  {
   "cell_type": "code",
   "execution_count": 10,
   "id": "a49beb9a",
   "metadata": {},
   "outputs": [
    {
     "name": "stdout",
     "output_type": "stream",
     "text": [
      "........."
     ]
    },
    {
     "data": {
      "text/html": [
       "<div>\n",
       "<style scoped>\n",
       "    .dataframe tbody tr th:only-of-type {\n",
       "        vertical-align: middle;\n",
       "    }\n",
       "\n",
       "    .dataframe tbody tr th {\n",
       "        vertical-align: top;\n",
       "    }\n",
       "\n",
       "    .dataframe thead th {\n",
       "        text-align: right;\n",
       "    }\n",
       "</style>\n",
       "<table border=\"1\" class=\"dataframe\">\n",
       "  <thead>\n",
       "    <tr style=\"text-align: right;\">\n",
       "      <th></th>\n",
       "      <th>Only bigint</th>\n",
       "      <th>Only int</th>\n",
       "      <th>Only bit</th>\n",
       "      <th>Only decimal</th>\n",
       "      <th>Only float</th>\n",
       "      <th>Only date</th>\n",
       "      <th>Only time</th>\n",
       "      <th>Only datetime2</th>\n",
       "      <th>Only unicode</th>\n",
       "      <th>All columns</th>\n",
       "    </tr>\n",
       "  </thead>\n",
       "  <tbody>\n",
       "    <tr>\n",
       "      <th>Elapsed bcp</th>\n",
       "      <td>3.814066</td>\n",
       "      <td>3.813875</td>\n",
       "      <td>3.828136</td>\n",
       "      <td>4.042081</td>\n",
       "      <td>3.573520</td>\n",
       "      <td>3.840329</td>\n",
       "      <td>4.091075</td>\n",
       "      <td>3.945898</td>\n",
       "      <td>51.918562</td>\n",
       "      <td>55.676529</td>\n",
       "    </tr>\n",
       "    <tr>\n",
       "      <th>Elapsed pyodbc</th>\n",
       "      <td>25.000829</td>\n",
       "      <td>24.870293</td>\n",
       "      <td>24.981263</td>\n",
       "      <td>26.712410</td>\n",
       "      <td>25.127409</td>\n",
       "      <td>25.293331</td>\n",
       "      <td>25.399346</td>\n",
       "      <td>25.217310</td>\n",
       "      <td>119.359981</td>\n",
       "      <td>124.717382</td>\n",
       "    </tr>\n",
       "    <tr>\n",
       "      <th>CPU bcp</th>\n",
       "      <td>0.097428</td>\n",
       "      <td>0.129928</td>\n",
       "      <td>0.115367</td>\n",
       "      <td>0.185219</td>\n",
       "      <td>0.120996</td>\n",
       "      <td>0.213216</td>\n",
       "      <td>0.330724</td>\n",
       "      <td>0.222442</td>\n",
       "      <td>1.262050</td>\n",
       "      <td>1.768699</td>\n",
       "    </tr>\n",
       "    <tr>\n",
       "      <th>CPU pyodbc</th>\n",
       "      <td>1.262390</td>\n",
       "      <td>1.276154</td>\n",
       "      <td>1.262438</td>\n",
       "      <td>2.385365</td>\n",
       "      <td>1.479365</td>\n",
       "      <td>1.589894</td>\n",
       "      <td>1.456422</td>\n",
       "      <td>1.598922</td>\n",
       "      <td>4.720991</td>\n",
       "      <td>7.980290</td>\n",
       "    </tr>\n",
       "  </tbody>\n",
       "</table>\n",
       "</div>"
      ],
      "text/plain": [
       "                Only bigint   Only int   Only bit  Only decimal  Only float  \\\n",
       "Elapsed bcp        3.814066   3.813875   3.828136      4.042081    3.573520   \n",
       "Elapsed pyodbc    25.000829  24.870293  24.981263     26.712410   25.127409   \n",
       "CPU bcp            0.097428   0.129928   0.115367      0.185219    0.120996   \n",
       "CPU pyodbc         1.262390   1.276154   1.262438      2.385365    1.479365   \n",
       "\n",
       "                Only date  Only time  Only datetime2  Only unicode  \\\n",
       "Elapsed bcp      3.840329   4.091075        3.945898     51.918562   \n",
       "Elapsed pyodbc  25.293331  25.399346       25.217310    119.359981   \n",
       "CPU bcp          0.213216   0.330724        0.222442      1.262050   \n",
       "CPU pyodbc       1.589894   1.456422        1.598922      4.720991   \n",
       "\n",
       "                All columns  \n",
       "Elapsed bcp       55.676529  \n",
       "Elapsed pyodbc   124.717382  \n",
       "CPU bcp            1.768699  \n",
       "CPU pyodbc         7.980290  "
      ]
     },
     "execution_count": 10,
     "metadata": {},
     "output_type": "execute_result"
    },
    {
     "data": {
      "image/png": "[encoded data removed]",
      "text/plain": [
       "<Figure size 1200x600 with 1 Axes>"
      ]
     },
     "metadata": {},
     "output_type": "display_data"
    }
   ],
   "source": [
    "benchmark(list(gen_fns.keys())[:-2], False, NR_ROWS, True)"
   ]
  },
  {
   "cell_type": "markdown",
   "id": "7e8a8c71",
   "metadata": {},
   "source": [
    "Now we will do the same benchmark but with a lock on the table."
   ]
  },
  {
   "cell_type": "code",
   "execution_count": 11,
   "id": "62ed05f3",
   "metadata": {},
   "outputs": [
    {
     "name": "stdout",
     "output_type": "stream",
     "text": [
      "........."
     ]
    },
    {
     "data": {
      "text/html": [
       "<div>\n",
       "<style scoped>\n",
       "    .dataframe tbody tr th:only-of-type {\n",
       "        vertical-align: middle;\n",
       "    }\n",
       "\n",
       "    .dataframe tbody tr th {\n",
       "        vertical-align: top;\n",
       "    }\n",
       "\n",
       "    .dataframe thead th {\n",
       "        text-align: right;\n",
       "    }\n",
       "</style>\n",
       "<table border=\"1\" class=\"dataframe\">\n",
       "  <thead>\n",
       "    <tr style=\"text-align: right;\">\n",
       "      <th></th>\n",
       "      <th>Only bigint</th>\n",
       "      <th>Only int</th>\n",
       "      <th>Only bit</th>\n",
       "      <th>Only decimal</th>\n",
       "      <th>Only float</th>\n",
       "      <th>Only date</th>\n",
       "      <th>Only time</th>\n",
       "      <th>Only datetime2</th>\n",
       "      <th>Only unicode</th>\n",
       "      <th>All columns</th>\n",
       "    </tr>\n",
       "  </thead>\n",
       "  <tbody>\n",
       "    <tr>\n",
       "      <th>Elapsed bcp</th>\n",
       "      <td>1.363855</td>\n",
       "      <td>1.369528</td>\n",
       "      <td>1.391989</td>\n",
       "      <td>1.835343</td>\n",
       "      <td>1.425205</td>\n",
       "      <td>1.361423</td>\n",
       "      <td>1.570051</td>\n",
       "      <td>1.641132</td>\n",
       "      <td>40.096661</td>\n",
       "      <td>34.034453</td>\n",
       "    </tr>\n",
       "    <tr>\n",
       "      <th>Elapsed pyodbc</th>\n",
       "      <td>23.290618</td>\n",
       "      <td>23.118965</td>\n",
       "      <td>23.439102</td>\n",
       "      <td>25.085869</td>\n",
       "      <td>23.901022</td>\n",
       "      <td>23.378068</td>\n",
       "      <td>23.396547</td>\n",
       "      <td>23.697274</td>\n",
       "      <td>110.533572</td>\n",
       "      <td>118.204705</td>\n",
       "    </tr>\n",
       "    <tr>\n",
       "      <th>CPU bcp</th>\n",
       "      <td>0.087602</td>\n",
       "      <td>0.168463</td>\n",
       "      <td>0.194559</td>\n",
       "      <td>0.242700</td>\n",
       "      <td>0.143175</td>\n",
       "      <td>0.135384</td>\n",
       "      <td>0.228456</td>\n",
       "      <td>0.256863</td>\n",
       "      <td>1.146310</td>\n",
       "      <td>1.725965</td>\n",
       "    </tr>\n",
       "    <tr>\n",
       "      <th>CPU pyodbc</th>\n",
       "      <td>1.558598</td>\n",
       "      <td>1.562552</td>\n",
       "      <td>1.555363</td>\n",
       "      <td>2.787146</td>\n",
       "      <td>1.705063</td>\n",
       "      <td>1.491043</td>\n",
       "      <td>1.578604</td>\n",
       "      <td>1.751548</td>\n",
       "      <td>4.311963</td>\n",
       "      <td>8.019612</td>\n",
       "    </tr>\n",
       "  </tbody>\n",
       "</table>\n",
       "</div>"
      ],
      "text/plain": [
       "                Only bigint   Only int   Only bit  Only decimal  Only float  \\\n",
       "Elapsed bcp        1.363855   1.369528   1.391989      1.835343    1.425205   \n",
       "Elapsed pyodbc    23.290618  23.118965  23.439102     25.085869   23.901022   \n",
       "CPU bcp            0.087602   0.168463   0.194559      0.242700    0.143175   \n",
       "CPU pyodbc         1.558598   1.562552   1.555363      2.787146    1.705063   \n",
       "\n",
       "                Only date  Only time  Only datetime2  Only unicode  \\\n",
       "Elapsed bcp      1.361423   1.570051        1.641132     40.096661   \n",
       "Elapsed pyodbc  23.378068  23.396547       23.697274    110.533572   \n",
       "CPU bcp          0.135384   0.228456        0.256863      1.146310   \n",
       "CPU pyodbc       1.491043   1.578604        1.751548      4.311963   \n",
       "\n",
       "                All columns  \n",
       "Elapsed bcp       34.034453  \n",
       "Elapsed pyodbc   118.204705  \n",
       "CPU bcp            1.725965  \n",
       "CPU pyodbc         8.019612  "
      ]
     },
     "execution_count": 11,
     "metadata": {},
     "output_type": "execute_result"
    },
    {
     "data": {
      "image/png": "[encoded data removed]",
      "text/plain": [
       "<Figure size 1200x600 with 1 Axes>"
      ]
     },
     "metadata": {},
     "output_type": "display_data"
    }
   ],
   "source": [
    "benchmark(list(gen_fns.keys())[:-2], True, NR_ROWS, True)"
   ]
  },
  {
   "cell_type": "markdown",
   "id": "fb5eb73d",
   "metadata": {},
   "source": [
    "As we can see, bulk inserts can use a table lock more effectively than odbc inserts.\n",
    "\n",
    "## Small Batchsize\n",
    "\n",
    "The next benchmark demonstrates that when inserting small amounts of rows, the fact that odbc can cache the database connection and bcp needs to reconnect for every bulk insert (as it runs in a subprocess) can be more important than bcp's better performance"
   ]
  },
  {
   "cell_type": "code",
   "execution_count": 12,
   "id": "784b85ef",
   "metadata": {},
   "outputs": [
    {
     "name": "stdout",
     "output_type": "stream",
     "text": [
      "........."
     ]
    },
    {
     "data": {
      "text/html": [
       "<div>\n",
       "<style scoped>\n",
       "    .dataframe tbody tr th:only-of-type {\n",
       "        vertical-align: middle;\n",
       "    }\n",
       "\n",
       "    .dataframe tbody tr th {\n",
       "        vertical-align: top;\n",
       "    }\n",
       "\n",
       "    .dataframe thead th {\n",
       "        text-align: right;\n",
       "    }\n",
       "</style>\n",
       "<table border=\"1\" class=\"dataframe\">\n",
       "  <thead>\n",
       "    <tr style=\"text-align: right;\">\n",
       "      <th></th>\n",
       "      <th>Only bigint</th>\n",
       "      <th>Only int</th>\n",
       "      <th>Only bit</th>\n",
       "      <th>Only decimal</th>\n",
       "      <th>Only float</th>\n",
       "      <th>Only date</th>\n",
       "      <th>Only time</th>\n",
       "      <th>Only datetime2</th>\n",
       "      <th>Only unicode</th>\n",
       "      <th>All columns</th>\n",
       "    </tr>\n",
       "  </thead>\n",
       "  <tbody>\n",
       "    <tr>\n",
       "      <th>Elapsed bcp</th>\n",
       "      <td>0.365966</td>\n",
       "      <td>0.476698</td>\n",
       "      <td>0.489117</td>\n",
       "      <td>0.415202</td>\n",
       "      <td>0.418948</td>\n",
       "      <td>0.430072</td>\n",
       "      <td>0.306026</td>\n",
       "      <td>0.335738</td>\n",
       "      <td>0.597185</td>\n",
       "      <td>0.598035</td>\n",
       "    </tr>\n",
       "    <tr>\n",
       "      <th>Elapsed pyodbc</th>\n",
       "      <td>0.360490</td>\n",
       "      <td>0.261609</td>\n",
       "      <td>0.289627</td>\n",
       "      <td>0.351819</td>\n",
       "      <td>0.359860</td>\n",
       "      <td>0.272308</td>\n",
       "      <td>0.273524</td>\n",
       "      <td>0.291634</td>\n",
       "      <td>0.448871</td>\n",
       "      <td>0.484801</td>\n",
       "    </tr>\n",
       "    <tr>\n",
       "      <th>CPU bcp</th>\n",
       "      <td>0.008425</td>\n",
       "      <td>0.014384</td>\n",
       "      <td>0.019965</td>\n",
       "      <td>0.014458</td>\n",
       "      <td>0.015210</td>\n",
       "      <td>0.014905</td>\n",
       "      <td>0.009114</td>\n",
       "      <td>0.012225</td>\n",
       "      <td>0.018972</td>\n",
       "      <td>0.023678</td>\n",
       "    </tr>\n",
       "    <tr>\n",
       "      <th>CPU pyodbc</th>\n",
       "      <td>0.019096</td>\n",
       "      <td>0.014294</td>\n",
       "      <td>0.015278</td>\n",
       "      <td>0.035758</td>\n",
       "      <td>0.013623</td>\n",
       "      <td>0.015859</td>\n",
       "      <td>0.009351</td>\n",
       "      <td>0.008640</td>\n",
       "      <td>0.028484</td>\n",
       "      <td>0.053296</td>\n",
       "    </tr>\n",
       "  </tbody>\n",
       "</table>\n",
       "</div>"
      ],
      "text/plain": [
       "                Only bigint  Only int  Only bit  Only decimal  Only float  \\\n",
       "Elapsed bcp        0.365966  0.476698  0.489117      0.415202    0.418948   \n",
       "Elapsed pyodbc     0.360490  0.261609  0.289627      0.351819    0.359860   \n",
       "CPU bcp            0.008425  0.014384  0.019965      0.014458    0.015210   \n",
       "CPU pyodbc         0.019096  0.014294  0.015278      0.035758    0.013623   \n",
       "\n",
       "                Only date  Only time  Only datetime2  Only unicode  \\\n",
       "Elapsed bcp      0.430072   0.306026        0.335738      0.597185   \n",
       "Elapsed pyodbc   0.272308   0.273524        0.291634      0.448871   \n",
       "CPU bcp          0.014905   0.009114        0.012225      0.018972   \n",
       "CPU pyodbc       0.015859   0.009351        0.008640      0.028484   \n",
       "\n",
       "                All columns  \n",
       "Elapsed bcp        0.598035  \n",
       "Elapsed pyodbc     0.484801  \n",
       "CPU bcp            0.023678  \n",
       "CPU pyodbc         0.053296  "
      ]
     },
     "execution_count": 12,
     "metadata": {},
     "output_type": "execute_result"
    },
    {
     "data": {
      "image/png": "[encoded data removed]",
      "text/plain": [
       "<Figure size 1200x600 with 1 Axes>"
      ]
     },
     "metadata": {},
     "output_type": "display_data"
    }
   ],
   "source": [
    "benchmark(list(gen_fns.keys())[:-2], False, 1_000, True)"
   ]
  },
  {
   "cell_type": "markdown",
   "id": "76c6d603",
   "metadata": {},
   "source": [
    "# You win some, you lose some\n",
    "\n",
    "Sadly bcp did not get blessed with a very good implementation for large data, that is cells with more than 8k bytes. For unicode this translates to 4k characters.\n",
    "\n",
    "I have tried a number of tweaks to the bcp insert process, including using wide characters instead of utf-8, importing as csv instead of using native datatypes and doing the same using the `BULK IMPORT` statement instead of bcp. However the situation does not improve.\n",
    "\n",
    "On the plus side, this effect seems to scale linearly with the amount of rows that have cells larger than 8k bytes, so if there are only a few large entries, this will probably not be noticable."
   ]
  },
  {
   "cell_type": "code",
   "execution_count": 13,
   "id": "210d1cfc",
   "metadata": {},
   "outputs": [
    {
     "name": "stdout",
     "output_type": "stream",
     "text": [
      ".."
     ]
    },
    {
     "data": {
      "text/html": [
       "<div>\n",
       "<style scoped>\n",
       "    .dataframe tbody tr th:only-of-type {\n",
       "        vertical-align: middle;\n",
       "    }\n",
       "\n",
       "    .dataframe tbody tr th {\n",
       "        vertical-align: top;\n",
       "    }\n",
       "\n",
       "    .dataframe thead th {\n",
       "        text-align: right;\n",
       "    }\n",
       "</style>\n",
       "<table border=\"1\" class=\"dataframe\">\n",
       "  <thead>\n",
       "    <tr style=\"text-align: right;\">\n",
       "      <th></th>\n",
       "      <th>Only chars_of_length_4000</th>\n",
       "      <th>Only chars_of_length_4001</th>\n",
       "    </tr>\n",
       "  </thead>\n",
       "  <tbody>\n",
       "    <tr>\n",
       "      <th>Elapsed bcp</th>\n",
       "      <td>1.276053</td>\n",
       "      <td>9.448878</td>\n",
       "    </tr>\n",
       "    <tr>\n",
       "      <th>Elapsed pyodbc</th>\n",
       "      <td>1.534308</td>\n",
       "      <td>1.173651</td>\n",
       "    </tr>\n",
       "    <tr>\n",
       "      <th>CPU bcp</th>\n",
       "      <td>0.067409</td>\n",
       "      <td>0.103172</td>\n",
       "    </tr>\n",
       "    <tr>\n",
       "      <th>CPU pyodbc</th>\n",
       "      <td>0.077309</td>\n",
       "      <td>0.107783</td>\n",
       "    </tr>\n",
       "  </tbody>\n",
       "</table>\n",
       "</div>"
      ],
      "text/plain": [
       "                Only chars_of_length_4000  Only chars_of_length_4001\n",
       "Elapsed bcp                      1.276053                   9.448878\n",
       "Elapsed pyodbc                   1.534308                   1.173651\n",
       "CPU bcp                          0.067409                   0.103172\n",
       "CPU pyodbc                       0.077309                   0.107783"
      ]
     },
     "execution_count": 13,
     "metadata": {},
     "output_type": "execute_result"
    },
    {
     "data": {
      "image/png": "[encoded data removed]",
      "text/plain": [
       "<Figure size 1200x600 with 1 Axes>"
      ]
     },
     "metadata": {},
     "output_type": "display_data"
    }
   ],
   "source": [
    "benchmark(list(gen_fns.keys())[-2:], False, 1_000, False)"
   ]
  },
  {
   "cell_type": "markdown",
   "id": "6b8425bb",
   "metadata": {},
   "source": [
    "# Notes on bandwidth\n",
    "\n",
    "If network bandwidth is the limiting factor, bcp should also come out ahead by a significant margin. Reasons for that are different data types, for example:\n",
    "\n",
    "- For both odbc and bcp, each cell gets an indicator variable. With odbc its size is always 8 bytes, with bcp 1 byte is enough, at least for non char/binary types\n",
    "- Odbc dates send year (2 bytes), month and day (1 byte each) separately, resulting in 4 bytes. bcp uses ordinal dates, so 3 bytes are enough. Same story with datetime\n",
    "- Odbc often treats character data as utf-16, bcp sends data as utf-8 and lets SQL Server translate. This results in half the bytes in many cases\n",
    "- Odbc usually sends decimal data as strings because odbc's numeric data type is less reliable. Bcp is sending decimals using integer encoding"
   ]
  }
 ],
 "metadata": {
  "kernelspec": {
   "display_name": "Python 3 (ipykernel)",
   "language": "python",
   "name": "python3"
  },
  "language_info": {
   "codemirror_mode": {
    "name": "ipython",
    "version": 3
   },
   "file_extension": ".py",
   "mimetype": "text/x-python",
   "name": "python",
   "nbconvert_exporter": "python",
   "pygments_lexer": "ipython3",
   "version": "3.12.1"
  }
 },
 "nbformat": 4,
 "nbformat_minor": 5
}
