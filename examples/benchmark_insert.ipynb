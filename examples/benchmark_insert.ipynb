{
 "cells": [
  {
   "cell_type": "markdown",
   "id": "9f0d1725",
   "metadata": {},
   "source": [
    "This benchmark shows advantages of using bcp over odbc. It is quite crude, however, and in practice the results may vary strongly depending on the number/kind of indexes on a table, the connectivity to the database and the difference in scale between the ETL server and SQL Server among other factors. That being said, I would expect similar tendencies.\n",
    "\n",
    "# Imports & Connection setup"
   ]
  },
  {
   "cell_type": "code",
   "execution_count": null,
   "id": "db22c5ad-9510-4079-8fe9-af7789bd92c4",
   "metadata": {},
   "outputs": [],
   "source": [
    "%pip install pyodbc plotly arrow-odbc"
   ]
  },
  {
   "cell_type": "code",
   "execution_count": 2,
   "id": "cf672954-de5f-48c1-b651-531cdd1231ec",
   "metadata": {},
   "outputs": [],
   "source": [
    "import arrow_bcp as ab\n",
    "import pyarrow as pa\n",
    "import pyodbc\n",
    "from plotly import graph_objects as go\n",
    "import random\n",
    "import datetime\n",
    "from decimal import Decimal\n",
    "import time\n",
    "import timeit"
   ]
  },
  {
   "cell_type": "markdown",
   "id": "06938042-3e76-46ee-8aa8-2937f4a6afea",
   "metadata": {},
   "source": [
    "Database connection details need to be filled in"
   ]
  },
  {
   "cell_type": "code",
   "execution_count": 3,
   "id": "fae4da8d-e322-4bf8-a59a-7828dba2e905",
   "metadata": {},
   "outputs": [],
   "source": [
    "SQL_URL = \"##########\"\n",
    "SQL_DB = \"##########\"\n",
    "SQL_LOGIN = \"##########\"\n",
    "SQL_PWD = \"##########\""
   ]
  },
  {
   "cell_type": "code",
   "execution_count": 4,
   "id": "d57d2078",
   "metadata": {},
   "outputs": [],
   "source": [
    "NR_ROWS = 200_000\n",
    "NR_BATCHES = 1\n",
    "NR_REPS = 5"
   ]
  },
  {
   "cell_type": "code",
   "execution_count": 5,
   "id": "57332f9e-2b8b-4940-a429-e539de2b8274",
   "metadata": {},
   "outputs": [],
   "source": [
    "pyodbc_con = pyodbc.connect(\n",
    "    f\"DRIVER={{ODBC Driver 17 for SQL Server}};SERVER={SQL_URL};DATABASE={SQL_DB};UID={SQL_LOGIN};PWD={SQL_PWD}\"\n",
    ")\n",
    "bcp_con = ab.ConnectionInfo(\n",
    "    (f\"-S tcp:{SQL_URL},1433 -d {SQL_DB} -U {SQL_LOGIN} -P {SQL_PWD}\").split()\n",
    ")\n",
    "bcp_con_tablock = ab.ConnectionInfo(\n",
    "    (f\"-S tcp:{SQL_URL},1433 -d {SQL_DB} -U {SQL_LOGIN} -P {SQL_PWD} -h TABLOCK\").split()\n",
    ")"
   ]
  },
  {
   "cell_type": "markdown",
   "id": "bebe1a78-cc79-4ded-a723-b8bc0dd82390",
   "metadata": {},
   "source": [
    "# Generate random data"
   ]
  },
  {
   "cell_type": "code",
   "execution_count": 6,
   "id": "bbf621bf-c094-4511-ba71-beba32fa9b32",
   "metadata": {},
   "outputs": [],
   "source": [
    "alphabet = [\n",
    "    chr(code_point) for current_range in [\n",
    "        (0x0021, 0x0021),\n",
    "        (0x0023, 0x0026),\n",
    "        (0x0028, 0x007E),\n",
    "        (0x00A1, 0x00AC),\n",
    "        (0x00AE, 0x00FF),\n",
    "        (0x0100, 0x017F),\n",
    "        (0x0180, 0x024F),\n",
    "        (0x2C60, 0x2C7F),\n",
    "        (0x16A0, 0x16F0),\n",
    "        (0x0370, 0x0377),\n",
    "        (0x037A, 0x037E),\n",
    "        (0x0384, 0x038A),\n",
    "        (0x038C, 0x038C),\n",
    "    ]\n",
    "    for code_point in range(current_range[0], current_range[1] + 1)\n",
    "]\n",
    "def random_utf8(length):\n",
    "    return ''.join(random.choices(alphabet, k=length))\n",
    "\n",
    "dmin, dmax = pa.array([datetime.date(1,1,1), datetime.date(9999,12,31)], type=pa.date32()).cast(pa.int32()).to_pylist()\n",
    "tmin, tmax = pa.array([0, datetime.time(23,59,59,999999)], type=pa.time64('us')).cast(pa.int64()).to_pylist()\n",
    "dtmin, dtmax = pa.array([datetime.datetime(1,1,1), datetime.datetime(9999,12,31,23,59,59,999999)], type=pa.timestamp(\"us\")).cast(pa.int64()).to_pylist()\n",
    "\n",
    "gen_fns = {\n",
    "    \"bigint\": (\"bigint\", pa.int64(), lambda x: min(2**63 * (2 * x - 1), 2**63-1)),\n",
    "    \"int\": (\"int\", pa.uint16(), lambda x: (2**16 - 1) * x),\n",
    "    \"bit\": (\"bit\", pa.bool_(), lambda x: x >= 0.5),\n",
    "    \"decimal\": (\"decimal(15, 10)\", pa.decimal128(15, 10), lambda x: Decimal(((2 * x - 1) * (10**15 - 1)) // 1) / 10**10),\n",
    "    \"float\": (\"float\", pa.float64(), lambda x: (1 if x >= 0.5 else -1) * (x + 1) * 2.0 ** ( 511 * (2 * x - 1))),\n",
    "    \"date\": (\"date\", pa.date32(), lambda x: x * (dmax - dmin) + dmin),\n",
    "    \"time\": (\"time\", pa.time64(\"us\"), lambda x: x * (tmax - tmin) + tmin),\n",
    "    \"datetime2\": (\"datetime2\", pa.timestamp(\"us\"), lambda x: x * (dtmax - dtmin) + dtmin),\n",
    "    \"unicode\": (\"nvarchar(max)\", pa.string(), lambda x: random_utf8(int(x**4 * 4000))),\n",
    "    \"chars_of_length_4000\": (\"nvarchar(max)\", pa.string(), lambda x: random_utf8(4000)),\n",
    "    \"chars_of_length_4001\": (\"nvarchar(max)\", pa.string(), lambda x: random_utf8(4001)),\n",
    "}\n",
    "\n",
    "arrays = []\n",
    "for _, tp, fn in gen_fns.values():\n",
    "    vals = [\n",
    "        None if random.random() > 0.75 else\n",
    "        fn(random.random()) for _ in range(NR_ROWS - 3)\n",
    "    ]\n",
    "    vals.insert(random.choice(range(len(vals))), fn(1))\n",
    "    vals.insert(random.choice(range(len(vals))), fn(0.5))\n",
    "    vals.insert(random.choice(range(len(vals))), fn(0))\n",
    "    arrays.append(pa.array(vals, type=tp))\n",
    "\n",
    "batch_complete = pa.record_batch(arrays, names=list(gen_fns.keys()))"
   ]
  },
  {
   "cell_type": "markdown",
   "id": "948b352c",
   "metadata": {},
   "source": [
    "# Set up benchmarking procedure"
   ]
  },
  {
   "cell_type": "code",
   "execution_count": 7,
   "id": "207c94c8-3ebb-4ea6-9bbd-57b8eda0ab07",
   "metadata": {},
   "outputs": [],
   "source": [
    "def setup(cols: list[str]):\n",
    "    \"Reset table in database\"\n",
    "    def f():\n",
    "        pyodbc_con.execute(f\"\"\"\n",
    "            drop table if exists test\n",
    "            create table test(\n",
    "                {\", \".join(col + \" \" + gen_fns[col][0] for col in cols)}\n",
    "            )\n",
    "        \"\"\")\n",
    "        pyodbc_con.commit()\n",
    "    return f\n",
    "\n",
    "def time_pyodbc(tablock: bool, cols: list[str], n_rows: int):\n",
    "    batch = batch_complete[:n_rows].select(cols)\n",
    "    # pyodbc consumes python datatypes, we don't want to time this so we convert ahead of time\n",
    "    batch_as_tuples = [tuple(row.values()) for row in batch.to_pylist()]\n",
    "\n",
    "    # pyodbc has the real advantage of being able to cache connections and cursors / statement handles\n",
    "    # so we don't time the connection setup\n",
    "    cur = pyodbc_con.cursor()\n",
    "    cur.fast_executemany = True\n",
    "    def f():\n",
    "        cur.executemany(f\"\"\"\n",
    "            insert into test{\" with(TABLOCK)\" if tablock else \"\"}\n",
    "            values ({\", \".join(\"?\"*len(cols))})\n",
    "        \"\"\", batch_as_tuples)\n",
    "        pyodbc_con.commit()\n",
    "    return f\n",
    "\n",
    "def time_bcp(tablock: bool, cols: list[str], n_rows: int):\n",
    "    batch = batch_complete[:n_rows].select(cols)\n",
    "\n",
    "    def f():\n",
    "        (bcp_con_tablock if tablock else bcp_con).insert_arrow(\"test\", [batch])\n",
    "    return f"
   ]
  },
  {
   "cell_type": "code",
   "execution_count": 8,
   "id": "e9dfcf79",
   "metadata": {},
   "outputs": [],
   "source": [
    "class Timer:\n",
    "    \"Dummy class to make timeit measure process time and perf counter simultaneously\"\n",
    "    def __init__(self, proc, perf):\n",
    "        self.proc = proc\n",
    "        self.perf = perf\n",
    "    def time():\n",
    "        return Timer(time.process_time(), time.perf_counter())\n",
    "    def __sub__(self, other):\n",
    "        return Timer(self.proc - other.proc, self.perf - other.perf)"
   ]
  },
  {
   "cell_type": "code",
   "execution_count": 9,
   "id": "992853f4",
   "metadata": {},
   "outputs": [],
   "source": [
    "def benchmark(columns: list[str], tablock: bool, n_rows: int, all_columns: bool):\n",
    "    \"Perform the benchmark and generate a plotly figure\"\n",
    "    bcp_perf = {}\n",
    "    bcp_proc = {}\n",
    "    pyodbc_perf = {}\n",
    "    pyodbc_proc = {}\n",
    "\n",
    "    for col in columns:\n",
    "        t_bcp = timeit.timeit(\n",
    "            stmt=time_bcp(tablock, [col], n_rows),\n",
    "            setup=setup([col]),\n",
    "            timer=Timer.time,\n",
    "            number=NR_REPS,\n",
    "        )\n",
    "        bcp_perf[f\"Only {col}\"] = t_bcp.perf\n",
    "        bcp_proc[f\"Only {col}\"] = t_bcp.proc\n",
    "        print(f\"{col=}: {t_bcp.perf=}, {t_bcp.proc=}\")\n",
    "\n",
    "        t_pyodbc = timeit.timeit(\n",
    "            stmt=time_pyodbc(tablock, [col], n_rows),\n",
    "            setup=setup([col]),\n",
    "            timer=Timer.time,\n",
    "            number=NR_REPS,\n",
    "        )\n",
    "\n",
    "        pyodbc_perf[f\"Only {col}\"] = t_pyodbc.perf\n",
    "        pyodbc_proc[f\"Only {col}\"] = t_pyodbc.proc\n",
    "        print(f\"{col=}: {t_pyodbc.perf=}, {t_pyodbc.proc=}\")\n",
    "\n",
    "    if all_columns:\n",
    "        t_bcp = timeit.timeit(\n",
    "            stmt=time_bcp(tablock, columns, n_rows),\n",
    "            setup=setup(columns),\n",
    "            timer=Timer.time,\n",
    "            number=NR_REPS,\n",
    "        )\n",
    "        bcp_perf[\"All columns\"] = t_bcp.perf\n",
    "        bcp_proc[\"All columns\"] = t_bcp.proc\n",
    "        print(f\"all columns: {t_bcp.perf=}, {t_bcp.proc=}\")\n",
    "\n",
    "        t_pyodbc = timeit.timeit(\n",
    "            stmt=time_pyodbc(tablock, columns, n_rows),\n",
    "            setup=setup(columns),\n",
    "            timer=Timer.time,\n",
    "            number=NR_REPS,\n",
    "        )\n",
    "\n",
    "        pyodbc_perf[\"All columns\"] = t_pyodbc.perf\n",
    "        pyodbc_proc[\"All columns\"] = t_pyodbc.proc\n",
    "        print(f\"all columns: {t_pyodbc.perf=}, {t_pyodbc.proc=}\")\n",
    "\n",
    "    return go.Figure(\n",
    "        data=[\n",
    "            go.Bar(name=\"bcp perf\", x=list(bcp_perf.keys()), y=list(bcp_perf.values())),\n",
    "            go.Bar(name=\"pyodbc perf\", x=list(pyodbc_perf.keys()), y=list(pyodbc_perf.values())),\n",
    "            go.Bar(name=\"bcp proc\", x=list(bcp_proc.keys()), y=list(bcp_proc.values())),\n",
    "            go.Bar(name=\"pyodbc proc\", x=list(pyodbc_proc.keys()), y=list(pyodbc_proc.values())),\n",
    "        ],\n",
    "        layout=go.Layout(\n",
    "            height=1000,\n",
    "            yaxis_title=\"Time (s)\",\n",
    "        )\n",
    "    )"
   ]
  },
  {
   "cell_type": "markdown",
   "id": "f502e6bc",
   "metadata": {},
   "source": [
    "# Results\n",
    "\n",
    "## Normal case\n",
    "\n",
    "The first benchmark represents a typical workload intended for this module\n",
    "\n",
    "From the difference between perf/elapsed time and proc/CPU time spent in both bcp and pyodbc benchmarks, we can see that most of the time is not eaten up by the CPU running the notebook. This indicates that the reason pyodbc is slower has nothing to do with the fact that it is using python data types, which are generally slower.\n",
    "\n",
    "Instead most of the time is spent on the SQL Server side, which, in the case of pyodbc has a very high CPU utilization, as it's trying to figure out how to insert the data and log the inserts.\n",
    "\n",
    "Having looked at the odbc specification and pyodbc implementation for quite a bit, I think that pyodbc handles inserts about as well as the specification allows."
   ]
  },
  {
   "cell_type": "code",
   "execution_count": 10,
   "id": "a49beb9a",
   "metadata": {},
   "outputs": [
    {
     "name": "stdout",
     "output_type": "stream",
     "text": [
      "col='bigint': t_bcp.perf=3.791813190007815, t_bcp.proc=0.0961361399999987\n",
      "col='bigint': t_pyodbc.perf=24.702703121991362, t_pyodbc.proc=0.7647799490000011\n",
      "col='int': t_bcp.perf=3.1573572889901698, t_bcp.proc=0.10439222099999768\n",
      "col='int': t_pyodbc.perf=24.909668709995458, t_pyodbc.proc=0.801219721999999\n",
      "col='bit': t_bcp.perf=3.441670886008069, t_bcp.proc=0.1211476989999909\n",
      "col='bit': t_pyodbc.perf=25.002165749989217, t_pyodbc.proc=0.786839962000002\n",
      "col='decimal': t_bcp.perf=3.6476841309922747, t_bcp.proc=0.12526347300000396\n",
      "col='decimal': t_pyodbc.perf=26.832264993019635, t_pyodbc.proc=2.0116444119999954\n",
      "col='float': t_bcp.perf=3.176042753009824, t_bcp.proc=0.08544665499999837\n",
      "col='float': t_pyodbc.perf=24.954566051979782, t_pyodbc.proc=0.8603583870000051\n",
      "col='date': t_bcp.perf=3.4620791990018915, t_bcp.proc=0.08920572499999935\n",
      "col='date': t_pyodbc.perf=24.832059192005545, t_pyodbc.proc=0.7864785639999923\n",
      "col='time': t_bcp.perf=3.2379068229929544, t_bcp.proc=0.13379176000000825\n",
      "col='time': t_pyodbc.perf=25.01271181300399, t_pyodbc.proc=0.7864600470000056\n",
      "col='datetime2': t_bcp.perf=3.768843090016162, t_bcp.proc=0.18073861100000954\n",
      "col='datetime2': t_pyodbc.perf=25.259701803006465, t_pyodbc.proc=0.923611446999999\n",
      "col='unicode': t_bcp.perf=45.30871144100092, t_bcp.proc=1.0735674889999984\n",
      "col='unicode': t_pyodbc.perf=112.79044866000186, t_pyodbc.proc=2.7324558509999974\n",
      "all columns: t_bcp.perf=52.13697595000849, t_bcp.proc=1.5885094119999934\n",
      "all columns: t_pyodbc.perf=117.4375729309977, t_pyodbc.proc=6.419132818999998\n"
     ]
    },
    {
     "data": {
      "application/vnd.plotly.v1+json": {
       "config": {
        "plotlyServerURL": "https://plot.ly"
       },
       "data": [
        {
         "name": "bcp perf",
         "type": "bar",
         "x": [
          "Only bigint",
          "Only int",
          "Only bit",
          "Only decimal",
          "Only float",
          "Only date",
          "Only time",
          "Only datetime2",
          "Only unicode",
          "All columns"
         ],
         "y": [
          3.791813190007815,
          3.1573572889901698,
          3.441670886008069,
          3.6476841309922747,
          3.176042753009824,
          3.4620791990018915,
          3.2379068229929544,
          3.768843090016162,
          45.30871144100092,
          52.13697595000849
         ]
        },
        {
         "name": "pyodbc perf",
         "type": "bar",
         "x": [
          "Only bigint",
          "Only int",
          "Only bit",
          "Only decimal",
          "Only float",
          "Only date",
          "Only time",
          "Only datetime2",
          "Only unicode",
          "All columns"
         ],
         "y": [
          24.702703121991362,
          24.909668709995458,
          25.002165749989217,
          26.832264993019635,
          24.954566051979782,
          24.832059192005545,
          25.01271181300399,
          25.259701803006465,
          112.79044866000186,
          117.4375729309977
         ]
        },
        {
         "name": "bcp proc",
         "type": "bar",
         "x": [
          "Only bigint",
          "Only int",
          "Only bit",
          "Only decimal",
          "Only float",
          "Only date",
          "Only time",
          "Only datetime2",
          "Only unicode",
          "All columns"
         ],
         "y": [
          0.0961361399999987,
          0.10439222099999768,
          0.1211476989999909,
          0.12526347300000396,
          0.08544665499999837,
          0.08920572499999935,
          0.13379176000000825,
          0.18073861100000954,
          1.0735674889999984,
          1.5885094119999934
         ]
        },
        {
         "name": "pyodbc proc",
         "type": "bar",
         "x": [
          "Only bigint",
          "Only int",
          "Only bit",
          "Only decimal",
          "Only float",
          "Only date",
          "Only time",
          "Only datetime2",
          "Only unicode",
          "All columns"
         ],
         "y": [
          0.7647799490000011,
          0.801219721999999,
          0.786839962000002,
          2.0116444119999954,
          0.8603583870000051,
          0.7864785639999923,
          0.7864600470000056,
          0.923611446999999,
          2.7324558509999974,
          6.419132818999998
         ]
        }
       ],
       "layout": {
        "height": 1000,
        "template": {
         "data": {
          "bar": [
           {
            "error_x": {
             "color": "#2a3f5f"
            },
            "error_y": {
             "color": "#2a3f5f"
            },
            "marker": {
             "line": {
              "color": "#E5ECF6",
              "width": 0.5
             },
             "pattern": {
              "fillmode": "overlay",
              "size": 10,
              "solidity": 0.2
             }
            },
            "type": "bar"
           }
          ],
          "barpolar": [
           {
            "marker": {
             "line": {
              "color": "#E5ECF6",
              "width": 0.5
             },
             "pattern": {
              "fillmode": "overlay",
              "size": 10,
              "solidity": 0.2
             }
            },
            "type": "barpolar"
           }
          ],
          "carpet": [
           {
            "aaxis": {
             "endlinecolor": "#2a3f5f",
             "gridcolor": "white",
             "linecolor": "white",
             "minorgridcolor": "white",
             "startlinecolor": "#2a3f5f"
            },
            "baxis": {
             "endlinecolor": "#2a3f5f",
             "gridcolor": "white",
             "linecolor": "white",
             "minorgridcolor": "white",
             "startlinecolor": "#2a3f5f"
            },
            "type": "carpet"
           }
          ],
          "choropleth": [
           {
            "colorbar": {
             "outlinewidth": 0,
             "ticks": ""
            },
            "type": "choropleth"
           }
          ],
          "contour": [
           {
            "colorbar": {
             "outlinewidth": 0,
             "ticks": ""
            },
            "colorscale": [
             [
              0,
              "#0d0887"
             ],
             [
              0.1111111111111111,
              "#46039f"
             ],
             [
              0.2222222222222222,
              "#7201a8"
             ],
             [
              0.3333333333333333,
              "#9c179e"
             ],
             [
              0.4444444444444444,
              "#bd3786"
             ],
             [
              0.5555555555555556,
              "#d8576b"
             ],
             [
              0.6666666666666666,
              "#ed7953"
             ],
             [
              0.7777777777777778,
              "#fb9f3a"
             ],
             [
              0.8888888888888888,
              "#fdca26"
             ],
             [
              1,
              "#f0f921"
             ]
            ],
            "type": "contour"
           }
          ],
          "contourcarpet": [
           {
            "colorbar": {
             "outlinewidth": 0,
             "ticks": ""
            },
            "type": "contourcarpet"
           }
          ],
          "heatmap": [
           {
            "colorbar": {
             "outlinewidth": 0,
             "ticks": ""
            },
            "colorscale": [
             [
              0,
              "#0d0887"
             ],
             [
              0.1111111111111111,
              "#46039f"
             ],
             [
              0.2222222222222222,
              "#7201a8"
             ],
             [
              0.3333333333333333,
              "#9c179e"
             ],
             [
              0.4444444444444444,
              "#bd3786"
             ],
             [
              0.5555555555555556,
              "#d8576b"
             ],
             [
              0.6666666666666666,
              "#ed7953"
             ],
             [
              0.7777777777777778,
              "#fb9f3a"
             ],
             [
              0.8888888888888888,
              "#fdca26"
             ],
             [
              1,
              "#f0f921"
             ]
            ],
            "type": "heatmap"
           }
          ],
          "heatmapgl": [
           {
            "colorbar": {
             "outlinewidth": 0,
             "ticks": ""
            },
            "colorscale": [
             [
              0,
              "#0d0887"
             ],
             [
              0.1111111111111111,
              "#46039f"
             ],
             [
              0.2222222222222222,
              "#7201a8"
             ],
             [
              0.3333333333333333,
              "#9c179e"
             ],
             [
              0.4444444444444444,
              "#bd3786"
             ],
             [
              0.5555555555555556,
              "#d8576b"
             ],
             [
              0.6666666666666666,
              "#ed7953"
             ],
             [
              0.7777777777777778,
              "#fb9f3a"
             ],
             [
              0.8888888888888888,
              "#fdca26"
             ],
             [
              1,
              "#f0f921"
             ]
            ],
            "type": "heatmapgl"
           }
          ],
          "histogram": [
           {
            "marker": {
             "pattern": {
              "fillmode": "overlay",
              "size": 10,
              "solidity": 0.2
             }
            },
            "type": "histogram"
           }
          ],
          "histogram2d": [
           {
            "colorbar": {
             "outlinewidth": 0,
             "ticks": ""
            },
            "colorscale": [
             [
              0,
              "#0d0887"
             ],
             [
              0.1111111111111111,
              "#46039f"
             ],
             [
              0.2222222222222222,
              "#7201a8"
             ],
             [
              0.3333333333333333,
              "#9c179e"
             ],
             [
              0.4444444444444444,
              "#bd3786"
             ],
             [
              0.5555555555555556,
              "#d8576b"
             ],
             [
              0.6666666666666666,
              "#ed7953"
             ],
             [
              0.7777777777777778,
              "#fb9f3a"
             ],
             [
              0.8888888888888888,
              "#fdca26"
             ],
             [
              1,
              "#f0f921"
             ]
            ],
            "type": "histogram2d"
           }
          ],
          "histogram2dcontour": [
           {
            "colorbar": {
             "outlinewidth": 0,
             "ticks": ""
            },
            "colorscale": [
             [
              0,
              "#0d0887"
             ],
             [
              0.1111111111111111,
              "#46039f"
             ],
             [
              0.2222222222222222,
              "#7201a8"
             ],
             [
              0.3333333333333333,
              "#9c179e"
             ],
             [
              0.4444444444444444,
              "#bd3786"
             ],
             [
              0.5555555555555556,
              "#d8576b"
             ],
             [
              0.6666666666666666,
              "#ed7953"
             ],
             [
              0.7777777777777778,
              "#fb9f3a"
             ],
             [
              0.8888888888888888,
              "#fdca26"
             ],
             [
              1,
              "#f0f921"
             ]
            ],
            "type": "histogram2dcontour"
           }
          ],
          "mesh3d": [
           {
            "colorbar": {
             "outlinewidth": 0,
             "ticks": ""
            },
            "type": "mesh3d"
           }
          ],
          "parcoords": [
           {
            "line": {
             "colorbar": {
              "outlinewidth": 0,
              "ticks": ""
             }
            },
            "type": "parcoords"
           }
          ],
          "pie": [
           {
            "automargin": true,
            "type": "pie"
           }
          ],
          "scatter": [
           {
            "fillpattern": {
             "fillmode": "overlay",
             "size": 10,
             "solidity": 0.2
            },
            "type": "scatter"
           }
          ],
          "scatter3d": [
           {
            "line": {
             "colorbar": {
              "outlinewidth": 0,
              "ticks": ""
             }
            },
            "marker": {
             "colorbar": {
              "outlinewidth": 0,
              "ticks": ""
             }
            },
            "type": "scatter3d"
           }
          ],
          "scattercarpet": [
           {
            "marker": {
             "colorbar": {
              "outlinewidth": 0,
              "ticks": ""
             }
            },
            "type": "scattercarpet"
           }
          ],
          "scattergeo": [
           {
            "marker": {
             "colorbar": {
              "outlinewidth": 0,
              "ticks": ""
             }
            },
            "type": "scattergeo"
           }
          ],
          "scattergl": [
           {
            "marker": {
             "colorbar": {
              "outlinewidth": 0,
              "ticks": ""
             }
            },
            "type": "scattergl"
           }
          ],
          "scattermapbox": [
           {
            "marker": {
             "colorbar": {
              "outlinewidth": 0,
              "ticks": ""
             }
            },
            "type": "scattermapbox"
           }
          ],
          "scatterpolar": [
           {
            "marker": {
             "colorbar": {
              "outlinewidth": 0,
              "ticks": ""
             }
            },
            "type": "scatterpolar"
           }
          ],
          "scatterpolargl": [
           {
            "marker": {
             "colorbar": {
              "outlinewidth": 0,
              "ticks": ""
             }
            },
            "type": "scatterpolargl"
           }
          ],
          "scatterternary": [
           {
            "marker": {
             "colorbar": {
              "outlinewidth": 0,
              "ticks": ""
             }
            },
            "type": "scatterternary"
           }
          ],
          "surface": [
           {
            "colorbar": {
             "outlinewidth": 0,
             "ticks": ""
            },
            "colorscale": [
             [
              0,
              "#0d0887"
             ],
             [
              0.1111111111111111,
              "#46039f"
             ],
             [
              0.2222222222222222,
              "#7201a8"
             ],
             [
              0.3333333333333333,
              "#9c179e"
             ],
             [
              0.4444444444444444,
              "#bd3786"
             ],
             [
              0.5555555555555556,
              "#d8576b"
             ],
             [
              0.6666666666666666,
              "#ed7953"
             ],
             [
              0.7777777777777778,
              "#fb9f3a"
             ],
             [
              0.8888888888888888,
              "#fdca26"
             ],
             [
              1,
              "#f0f921"
             ]
            ],
            "type": "surface"
           }
          ],
          "table": [
           {
            "cells": {
             "fill": {
              "color": "#EBF0F8"
             },
             "line": {
              "color": "white"
             }
            },
            "header": {
             "fill": {
              "color": "#C8D4E3"
             },
             "line": {
              "color": "white"
             }
            },
            "type": "table"
           }
          ]
         },
         "layout": {
          "annotationdefaults": {
           "arrowcolor": "#2a3f5f",
           "arrowhead": 0,
           "arrowwidth": 1
          },
          "autotypenumbers": "strict",
          "coloraxis": {
           "colorbar": {
            "outlinewidth": 0,
            "ticks": ""
           }
          },
          "colorscale": {
           "diverging": [
            [
             0,
             "#8e0152"
            ],
            [
             0.1,
             "#c51b7d"
            ],
            [
             0.2,
             "#de77ae"
            ],
            [
             0.3,
             "#f1b6da"
            ],
            [
             0.4,
             "#fde0ef"
            ],
            [
             0.5,
             "#f7f7f7"
            ],
            [
             0.6,
             "#e6f5d0"
            ],
            [
             0.7,
             "#b8e186"
            ],
            [
             0.8,
             "#7fbc41"
            ],
            [
             0.9,
             "#4d9221"
            ],
            [
             1,
             "#276419"
            ]
           ],
           "sequential": [
            [
             0,
             "#0d0887"
            ],
            [
             0.1111111111111111,
             "#46039f"
            ],
            [
             0.2222222222222222,
             "#7201a8"
            ],
            [
             0.3333333333333333,
             "#9c179e"
            ],
            [
             0.4444444444444444,
             "#bd3786"
            ],
            [
             0.5555555555555556,
             "#d8576b"
            ],
            [
             0.6666666666666666,
             "#ed7953"
            ],
            [
             0.7777777777777778,
             "#fb9f3a"
            ],
            [
             0.8888888888888888,
             "#fdca26"
            ],
            [
             1,
             "#f0f921"
            ]
           ],
           "sequentialminus": [
            [
             0,
             "#0d0887"
            ],
            [
             0.1111111111111111,
             "#46039f"
            ],
            [
             0.2222222222222222,
             "#7201a8"
            ],
            [
             0.3333333333333333,
             "#9c179e"
            ],
            [
             0.4444444444444444,
             "#bd3786"
            ],
            [
             0.5555555555555556,
             "#d8576b"
            ],
            [
             0.6666666666666666,
             "#ed7953"
            ],
            [
             0.7777777777777778,
             "#fb9f3a"
            ],
            [
             0.8888888888888888,
             "#fdca26"
            ],
            [
             1,
             "#f0f921"
            ]
           ]
          },
          "colorway": [
           "#636efa",
           "#EF553B",
           "#00cc96",
           "#ab63fa",
           "#FFA15A",
           "#19d3f3",
           "#FF6692",
           "#B6E880",
           "#FF97FF",
           "#FECB52"
          ],
          "font": {
           "color": "#2a3f5f"
          },
          "geo": {
           "bgcolor": "white",
           "lakecolor": "white",
           "landcolor": "#E5ECF6",
           "showlakes": true,
           "showland": true,
           "subunitcolor": "white"
          },
          "hoverlabel": {
           "align": "left"
          },
          "hovermode": "closest",
          "mapbox": {
           "style": "light"
          },
          "paper_bgcolor": "white",
          "plot_bgcolor": "#E5ECF6",
          "polar": {
           "angularaxis": {
            "gridcolor": "white",
            "linecolor": "white",
            "ticks": ""
           },
           "bgcolor": "#E5ECF6",
           "radialaxis": {
            "gridcolor": "white",
            "linecolor": "white",
            "ticks": ""
           }
          },
          "scene": {
           "xaxis": {
            "backgroundcolor": "#E5ECF6",
            "gridcolor": "white",
            "gridwidth": 2,
            "linecolor": "white",
            "showbackground": true,
            "ticks": "",
            "zerolinecolor": "white"
           },
           "yaxis": {
            "backgroundcolor": "#E5ECF6",
            "gridcolor": "white",
            "gridwidth": 2,
            "linecolor": "white",
            "showbackground": true,
            "ticks": "",
            "zerolinecolor": "white"
           },
           "zaxis": {
            "backgroundcolor": "#E5ECF6",
            "gridcolor": "white",
            "gridwidth": 2,
            "linecolor": "white",
            "showbackground": true,
            "ticks": "",
            "zerolinecolor": "white"
           }
          },
          "shapedefaults": {
           "line": {
            "color": "#2a3f5f"
           }
          },
          "ternary": {
           "aaxis": {
            "gridcolor": "white",
            "linecolor": "white",
            "ticks": ""
           },
           "baxis": {
            "gridcolor": "white",
            "linecolor": "white",
            "ticks": ""
           },
           "bgcolor": "#E5ECF6",
           "caxis": {
            "gridcolor": "white",
            "linecolor": "white",
            "ticks": ""
           }
          },
          "title": {
           "x": 0.05
          },
          "xaxis": {
           "automargin": true,
           "gridcolor": "white",
           "linecolor": "white",
           "ticks": "",
           "title": {
            "standoff": 15
           },
           "zerolinecolor": "white",
           "zerolinewidth": 2
          },
          "yaxis": {
           "automargin": true,
           "gridcolor": "white",
           "linecolor": "white",
           "ticks": "",
           "title": {
            "standoff": 15
           },
           "zerolinecolor": "white",
           "zerolinewidth": 2
          }
         }
        },
        "yaxis": {
         "title": {
          "text": "Time (s)"
         }
        }
       }
      }
     },
     "metadata": {},
     "output_type": "display_data"
    }
   ],
   "source": [
    "benchmark(list(gen_fns.keys())[:-2], False, NR_ROWS, True)"
   ]
  },
  {
   "cell_type": "markdown",
   "id": "7e8a8c71",
   "metadata": {},
   "source": [
    "Now we will do the same benchmark but with a lock on the table."
   ]
  },
  {
   "cell_type": "code",
   "execution_count": 11,
   "id": "62ed05f3",
   "metadata": {},
   "outputs": [
    {
     "name": "stdout",
     "output_type": "stream",
     "text": [
      "col='bigint': t_bcp.perf=1.1818832590070087, t_bcp.proc=0.0768159029999822\n",
      "col='bigint': t_pyodbc.perf=23.562522699998226, t_pyodbc.proc=0.8834714529999985\n",
      "col='int': t_bcp.perf=1.124322054994991, t_bcp.proc=0.10225339400000166\n",
      "col='int': t_pyodbc.perf=22.772727080009645, t_pyodbc.proc=0.9442876520000141\n",
      "col='bit': t_bcp.perf=1.2112133119953796, t_bcp.proc=0.08725989199999162\n",
      "col='bit': t_pyodbc.perf=22.80042817501817, t_pyodbc.proc=0.8054483619999928\n",
      "col='decimal': t_bcp.perf=1.4493887040007394, t_bcp.proc=0.16817898900001182\n",
      "col='decimal': t_pyodbc.perf=25.375519374996657, t_pyodbc.proc=2.142586217999991\n",
      "col='float': t_bcp.perf=0.9515895980002824, t_bcp.proc=0.06510844299998553\n",
      "col='float': t_pyodbc.perf=23.09132196198334, t_pyodbc.proc=0.8196195609999961\n",
      "col='date': t_bcp.perf=1.1092229799833149, t_bcp.proc=0.09978608000000122\n",
      "col='date': t_pyodbc.perf=22.930420145014068, t_pyodbc.proc=0.905553824000009\n",
      "col='time': t_bcp.perf=1.2087761820002925, t_bcp.proc=0.10361756500000752\n",
      "col='time': t_pyodbc.perf=22.90938204099075, t_pyodbc.proc=0.9112655460000099\n",
      "col='datetime2': t_bcp.perf=1.5035518850199878, t_bcp.proc=0.20237690700000144\n",
      "col='datetime2': t_pyodbc.perf=22.896005683986004, t_pyodbc.proc=0.9319884410000157\n",
      "col='unicode': t_bcp.perf=21.06099409898161, t_bcp.proc=1.0883373819999917\n",
      "col='unicode': t_pyodbc.perf=120.27063262698357, t_pyodbc.proc=4.110688303000018\n",
      "all columns: t_bcp.perf=25.352946521015838, t_bcp.proc=1.6483857239999793\n",
      "all columns: t_pyodbc.perf=119.68393386801472, t_pyodbc.proc=7.644347201999977\n"
     ]
    },
    {
     "data": {
      "application/vnd.plotly.v1+json": {
       "config": {
        "plotlyServerURL": "https://plot.ly"
       },
       "data": [
        {
         "name": "bcp perf",
         "type": "bar",
         "x": [
          "Only bigint",
          "Only int",
          "Only bit",
          "Only decimal",
          "Only float",
          "Only date",
          "Only time",
          "Only datetime2",
          "Only unicode",
          "All columns"
         ],
         "y": [
          1.1818832590070087,
          1.124322054994991,
          1.2112133119953796,
          1.4493887040007394,
          0.9515895980002824,
          1.1092229799833149,
          1.2087761820002925,
          1.5035518850199878,
          21.06099409898161,
          25.352946521015838
         ]
        },
        {
         "name": "pyodbc perf",
         "type": "bar",
         "x": [
          "Only bigint",
          "Only int",
          "Only bit",
          "Only decimal",
          "Only float",
          "Only date",
          "Only time",
          "Only datetime2",
          "Only unicode",
          "All columns"
         ],
         "y": [
          23.562522699998226,
          22.772727080009645,
          22.80042817501817,
          25.375519374996657,
          23.09132196198334,
          22.930420145014068,
          22.90938204099075,
          22.896005683986004,
          120.27063262698357,
          119.68393386801472
         ]
        },
        {
         "name": "bcp proc",
         "type": "bar",
         "x": [
          "Only bigint",
          "Only int",
          "Only bit",
          "Only decimal",
          "Only float",
          "Only date",
          "Only time",
          "Only datetime2",
          "Only unicode",
          "All columns"
         ],
         "y": [
          0.0768159029999822,
          0.10225339400000166,
          0.08725989199999162,
          0.16817898900001182,
          0.06510844299998553,
          0.09978608000000122,
          0.10361756500000752,
          0.20237690700000144,
          1.0883373819999917,
          1.6483857239999793
         ]
        },
        {
         "name": "pyodbc proc",
         "type": "bar",
         "x": [
          "Only bigint",
          "Only int",
          "Only bit",
          "Only decimal",
          "Only float",
          "Only date",
          "Only time",
          "Only datetime2",
          "Only unicode",
          "All columns"
         ],
         "y": [
          0.8834714529999985,
          0.9442876520000141,
          0.8054483619999928,
          2.142586217999991,
          0.8196195609999961,
          0.905553824000009,
          0.9112655460000099,
          0.9319884410000157,
          4.110688303000018,
          7.644347201999977
         ]
        }
       ],
       "layout": {
        "height": 1000,
        "template": {
         "data": {
          "bar": [
           {
            "error_x": {
             "color": "#2a3f5f"
            },
            "error_y": {
             "color": "#2a3f5f"
            },
            "marker": {
             "line": {
              "color": "#E5ECF6",
              "width": 0.5
             },
             "pattern": {
              "fillmode": "overlay",
              "size": 10,
              "solidity": 0.2
             }
            },
            "type": "bar"
           }
          ],
          "barpolar": [
           {
            "marker": {
             "line": {
              "color": "#E5ECF6",
              "width": 0.5
             },
             "pattern": {
              "fillmode": "overlay",
              "size": 10,
              "solidity": 0.2
             }
            },
            "type": "barpolar"
           }
          ],
          "carpet": [
           {
            "aaxis": {
             "endlinecolor": "#2a3f5f",
             "gridcolor": "white",
             "linecolor": "white",
             "minorgridcolor": "white",
             "startlinecolor": "#2a3f5f"
            },
            "baxis": {
             "endlinecolor": "#2a3f5f",
             "gridcolor": "white",
             "linecolor": "white",
             "minorgridcolor": "white",
             "startlinecolor": "#2a3f5f"
            },
            "type": "carpet"
           }
          ],
          "choropleth": [
           {
            "colorbar": {
             "outlinewidth": 0,
             "ticks": ""
            },
            "type": "choropleth"
           }
          ],
          "contour": [
           {
            "colorbar": {
             "outlinewidth": 0,
             "ticks": ""
            },
            "colorscale": [
             [
              0,
              "#0d0887"
             ],
             [
              0.1111111111111111,
              "#46039f"
             ],
             [
              0.2222222222222222,
              "#7201a8"
             ],
             [
              0.3333333333333333,
              "#9c179e"
             ],
             [
              0.4444444444444444,
              "#bd3786"
             ],
             [
              0.5555555555555556,
              "#d8576b"
             ],
             [
              0.6666666666666666,
              "#ed7953"
             ],
             [
              0.7777777777777778,
              "#fb9f3a"
             ],
             [
              0.8888888888888888,
              "#fdca26"
             ],
             [
              1,
              "#f0f921"
             ]
            ],
            "type": "contour"
           }
          ],
          "contourcarpet": [
           {
            "colorbar": {
             "outlinewidth": 0,
             "ticks": ""
            },
            "type": "contourcarpet"
           }
          ],
          "heatmap": [
           {
            "colorbar": {
             "outlinewidth": 0,
             "ticks": ""
            },
            "colorscale": [
             [
              0,
              "#0d0887"
             ],
             [
              0.1111111111111111,
              "#46039f"
             ],
             [
              0.2222222222222222,
              "#7201a8"
             ],
             [
              0.3333333333333333,
              "#9c179e"
             ],
             [
              0.4444444444444444,
              "#bd3786"
             ],
             [
              0.5555555555555556,
              "#d8576b"
             ],
             [
              0.6666666666666666,
              "#ed7953"
             ],
             [
              0.7777777777777778,
              "#fb9f3a"
             ],
             [
              0.8888888888888888,
              "#fdca26"
             ],
             [
              1,
              "#f0f921"
             ]
            ],
            "type": "heatmap"
           }
          ],
          "heatmapgl": [
           {
            "colorbar": {
             "outlinewidth": 0,
             "ticks": ""
            },
            "colorscale": [
             [
              0,
              "#0d0887"
             ],
             [
              0.1111111111111111,
              "#46039f"
             ],
             [
              0.2222222222222222,
              "#7201a8"
             ],
             [
              0.3333333333333333,
              "#9c179e"
             ],
             [
              0.4444444444444444,
              "#bd3786"
             ],
             [
              0.5555555555555556,
              "#d8576b"
             ],
             [
              0.6666666666666666,
              "#ed7953"
             ],
             [
              0.7777777777777778,
              "#fb9f3a"
             ],
             [
              0.8888888888888888,
              "#fdca26"
             ],
             [
              1,
              "#f0f921"
             ]
            ],
            "type": "heatmapgl"
           }
          ],
          "histogram": [
           {
            "marker": {
             "pattern": {
              "fillmode": "overlay",
              "size": 10,
              "solidity": 0.2
             }
            },
            "type": "histogram"
           }
          ],
          "histogram2d": [
           {
            "colorbar": {
             "outlinewidth": 0,
             "ticks": ""
            },
            "colorscale": [
             [
              0,
              "#0d0887"
             ],
             [
              0.1111111111111111,
              "#46039f"
             ],
             [
              0.2222222222222222,
              "#7201a8"
             ],
             [
              0.3333333333333333,
              "#9c179e"
             ],
             [
              0.4444444444444444,
              "#bd3786"
             ],
             [
              0.5555555555555556,
              "#d8576b"
             ],
             [
              0.6666666666666666,
              "#ed7953"
             ],
             [
              0.7777777777777778,
              "#fb9f3a"
             ],
             [
              0.8888888888888888,
              "#fdca26"
             ],
             [
              1,
              "#f0f921"
             ]
            ],
            "type": "histogram2d"
           }
          ],
          "histogram2dcontour": [
           {
            "colorbar": {
             "outlinewidth": 0,
             "ticks": ""
            },
            "colorscale": [
             [
              0,
              "#0d0887"
             ],
             [
              0.1111111111111111,
              "#46039f"
             ],
             [
              0.2222222222222222,
              "#7201a8"
             ],
             [
              0.3333333333333333,
              "#9c179e"
             ],
             [
              0.4444444444444444,
              "#bd3786"
             ],
             [
              0.5555555555555556,
              "#d8576b"
             ],
             [
              0.6666666666666666,
              "#ed7953"
             ],
             [
              0.7777777777777778,
              "#fb9f3a"
             ],
             [
              0.8888888888888888,
              "#fdca26"
             ],
             [
              1,
              "#f0f921"
             ]
            ],
            "type": "histogram2dcontour"
           }
          ],
          "mesh3d": [
           {
            "colorbar": {
             "outlinewidth": 0,
             "ticks": ""
            },
            "type": "mesh3d"
           }
          ],
          "parcoords": [
           {
            "line": {
             "colorbar": {
              "outlinewidth": 0,
              "ticks": ""
             }
            },
            "type": "parcoords"
           }
          ],
          "pie": [
           {
            "automargin": true,
            "type": "pie"
           }
          ],
          "scatter": [
           {
            "fillpattern": {
             "fillmode": "overlay",
             "size": 10,
             "solidity": 0.2
            },
            "type": "scatter"
           }
          ],
          "scatter3d": [
           {
            "line": {
             "colorbar": {
              "outlinewidth": 0,
              "ticks": ""
             }
            },
            "marker": {
             "colorbar": {
              "outlinewidth": 0,
              "ticks": ""
             }
            },
            "type": "scatter3d"
           }
          ],
          "scattercarpet": [
           {
            "marker": {
             "colorbar": {
              "outlinewidth": 0,
              "ticks": ""
             }
            },
            "type": "scattercarpet"
           }
          ],
          "scattergeo": [
           {
            "marker": {
             "colorbar": {
              "outlinewidth": 0,
              "ticks": ""
             }
            },
            "type": "scattergeo"
           }
          ],
          "scattergl": [
           {
            "marker": {
             "colorbar": {
              "outlinewidth": 0,
              "ticks": ""
             }
            },
            "type": "scattergl"
           }
          ],
          "scattermapbox": [
           {
            "marker": {
             "colorbar": {
              "outlinewidth": 0,
              "ticks": ""
             }
            },
            "type": "scattermapbox"
           }
          ],
          "scatterpolar": [
           {
            "marker": {
             "colorbar": {
              "outlinewidth": 0,
              "ticks": ""
             }
            },
            "type": "scatterpolar"
           }
          ],
          "scatterpolargl": [
           {
            "marker": {
             "colorbar": {
              "outlinewidth": 0,
              "ticks": ""
             }
            },
            "type": "scatterpolargl"
           }
          ],
          "scatterternary": [
           {
            "marker": {
             "colorbar": {
              "outlinewidth": 0,
              "ticks": ""
             }
            },
            "type": "scatterternary"
           }
          ],
          "surface": [
           {
            "colorbar": {
             "outlinewidth": 0,
             "ticks": ""
            },
            "colorscale": [
             [
              0,
              "#0d0887"
             ],
             [
              0.1111111111111111,
              "#46039f"
             ],
             [
              0.2222222222222222,
              "#7201a8"
             ],
             [
              0.3333333333333333,
              "#9c179e"
             ],
             [
              0.4444444444444444,
              "#bd3786"
             ],
             [
              0.5555555555555556,
              "#d8576b"
             ],
             [
              0.6666666666666666,
              "#ed7953"
             ],
             [
              0.7777777777777778,
              "#fb9f3a"
             ],
             [
              0.8888888888888888,
              "#fdca26"
             ],
             [
              1,
              "#f0f921"
             ]
            ],
            "type": "surface"
           }
          ],
          "table": [
           {
            "cells": {
             "fill": {
              "color": "#EBF0F8"
             },
             "line": {
              "color": "white"
             }
            },
            "header": {
             "fill": {
              "color": "#C8D4E3"
             },
             "line": {
              "color": "white"
             }
            },
            "type": "table"
           }
          ]
         },
         "layout": {
          "annotationdefaults": {
           "arrowcolor": "#2a3f5f",
           "arrowhead": 0,
           "arrowwidth": 1
          },
          "autotypenumbers": "strict",
          "coloraxis": {
           "colorbar": {
            "outlinewidth": 0,
            "ticks": ""
           }
          },
          "colorscale": {
           "diverging": [
            [
             0,
             "#8e0152"
            ],
            [
             0.1,
             "#c51b7d"
            ],
            [
             0.2,
             "#de77ae"
            ],
            [
             0.3,
             "#f1b6da"
            ],
            [
             0.4,
             "#fde0ef"
            ],
            [
             0.5,
             "#f7f7f7"
            ],
            [
             0.6,
             "#e6f5d0"
            ],
            [
             0.7,
             "#b8e186"
            ],
            [
             0.8,
             "#7fbc41"
            ],
            [
             0.9,
             "#4d9221"
            ],
            [
             1,
             "#276419"
            ]
           ],
           "sequential": [
            [
             0,
             "#0d0887"
            ],
            [
             0.1111111111111111,
             "#46039f"
            ],
            [
             0.2222222222222222,
             "#7201a8"
            ],
            [
             0.3333333333333333,
             "#9c179e"
            ],
            [
             0.4444444444444444,
             "#bd3786"
            ],
            [
             0.5555555555555556,
             "#d8576b"
            ],
            [
             0.6666666666666666,
             "#ed7953"
            ],
            [
             0.7777777777777778,
             "#fb9f3a"
            ],
            [
             0.8888888888888888,
             "#fdca26"
            ],
            [
             1,
             "#f0f921"
            ]
           ],
           "sequentialminus": [
            [
             0,
             "#0d0887"
            ],
            [
             0.1111111111111111,
             "#46039f"
            ],
            [
             0.2222222222222222,
             "#7201a8"
            ],
            [
             0.3333333333333333,
             "#9c179e"
            ],
            [
             0.4444444444444444,
             "#bd3786"
            ],
            [
             0.5555555555555556,
             "#d8576b"
            ],
            [
             0.6666666666666666,
             "#ed7953"
            ],
            [
             0.7777777777777778,
             "#fb9f3a"
            ],
            [
             0.8888888888888888,
             "#fdca26"
            ],
            [
             1,
             "#f0f921"
            ]
           ]
          },
          "colorway": [
           "#636efa",
           "#EF553B",
           "#00cc96",
           "#ab63fa",
           "#FFA15A",
           "#19d3f3",
           "#FF6692",
           "#B6E880",
           "#FF97FF",
           "#FECB52"
          ],
          "font": {
           "color": "#2a3f5f"
          },
          "geo": {
           "bgcolor": "white",
           "lakecolor": "white",
           "landcolor": "#E5ECF6",
           "showlakes": true,
           "showland": true,
           "subunitcolor": "white"
          },
          "hoverlabel": {
           "align": "left"
          },
          "hovermode": "closest",
          "mapbox": {
           "style": "light"
          },
          "paper_bgcolor": "white",
          "plot_bgcolor": "#E5ECF6",
          "polar": {
           "angularaxis": {
            "gridcolor": "white",
            "linecolor": "white",
            "ticks": ""
           },
           "bgcolor": "#E5ECF6",
           "radialaxis": {
            "gridcolor": "white",
            "linecolor": "white",
            "ticks": ""
           }
          },
          "scene": {
           "xaxis": {
            "backgroundcolor": "#E5ECF6",
            "gridcolor": "white",
            "gridwidth": 2,
            "linecolor": "white",
            "showbackground": true,
            "ticks": "",
            "zerolinecolor": "white"
           },
           "yaxis": {
            "backgroundcolor": "#E5ECF6",
            "gridcolor": "white",
            "gridwidth": 2,
            "linecolor": "white",
            "showbackground": true,
            "ticks": "",
            "zerolinecolor": "white"
           },
           "zaxis": {
            "backgroundcolor": "#E5ECF6",
            "gridcolor": "white",
            "gridwidth": 2,
            "linecolor": "white",
            "showbackground": true,
            "ticks": "",
            "zerolinecolor": "white"
           }
          },
          "shapedefaults": {
           "line": {
            "color": "#2a3f5f"
           }
          },
          "ternary": {
           "aaxis": {
            "gridcolor": "white",
            "linecolor": "white",
            "ticks": ""
           },
           "baxis": {
            "gridcolor": "white",
            "linecolor": "white",
            "ticks": ""
           },
           "bgcolor": "#E5ECF6",
           "caxis": {
            "gridcolor": "white",
            "linecolor": "white",
            "ticks": ""
           }
          },
          "title": {
           "x": 0.05
          },
          "xaxis": {
           "automargin": true,
           "gridcolor": "white",
           "linecolor": "white",
           "ticks": "",
           "title": {
            "standoff": 15
           },
           "zerolinecolor": "white",
           "zerolinewidth": 2
          },
          "yaxis": {
           "automargin": true,
           "gridcolor": "white",
           "linecolor": "white",
           "ticks": "",
           "title": {
            "standoff": 15
           },
           "zerolinecolor": "white",
           "zerolinewidth": 2
          }
         }
        },
        "yaxis": {
         "title": {
          "text": "Time (s)"
         }
        }
       }
      }
     },
     "metadata": {},
     "output_type": "display_data"
    }
   ],
   "source": [
    "benchmark(list(gen_fns.keys())[:-2], True, NR_ROWS, True)"
   ]
  },
  {
   "cell_type": "markdown",
   "id": "fb5eb73d",
   "metadata": {},
   "source": [
    "As we can see, bulk inserts can use a table lock more effectively than odbc inserts.\n",
    "\n",
    "## Small Batchsize\n",
    "\n",
    "The next benchmark demonstrates that when inserting small amounts of rows, the fact that odbc can cache the database connection and bcp needs to reconnect for every bulk insert (as it runs in a subprocess) can be more important than bcp's better performance"
   ]
  },
  {
   "cell_type": "code",
   "execution_count": 12,
   "id": "784b85ef",
   "metadata": {},
   "outputs": [
    {
     "name": "stdout",
     "output_type": "stream",
     "text": [
      "col='bigint': t_bcp.perf=0.34884182500536554, t_bcp.proc=0.008622898999988138\n",
      "col='bigint': t_pyodbc.perf=0.29327608199673705, t_pyodbc.proc=0.011119887999996081\n",
      "col='int': t_bcp.perf=0.3800486129766796, t_bcp.proc=0.009693923000014593\n",
      "col='int': t_pyodbc.perf=0.26780914299888536, t_pyodbc.proc=0.01437000199999261\n",
      "col='bit': t_bcp.perf=0.35386244900291786, t_bcp.proc=0.011664160999998785\n",
      "col='bit': t_pyodbc.perf=0.3072272590070497, t_pyodbc.proc=0.006273402000005035\n",
      "col='decimal': t_bcp.perf=0.3983426060003694, t_bcp.proc=0.013450242999994089\n",
      "col='decimal': t_pyodbc.perf=0.29824599099811167, t_pyodbc.proc=0.02959976500000039\n",
      "col='float': t_bcp.perf=0.327064284007065, t_bcp.proc=0.00817542400000093\n",
      "col='float': t_pyodbc.perf=0.2760500660224352, t_pyodbc.proc=0.007802009999977599\n",
      "col='date': t_bcp.perf=0.31369118101429194, t_bcp.proc=0.007505693999974028\n",
      "col='date': t_pyodbc.perf=0.2859841960016638, t_pyodbc.proc=0.01234461300001044\n",
      "col='time': t_bcp.perf=0.3365580620011315, t_bcp.proc=0.008701167999987547\n",
      "col='time': t_pyodbc.perf=0.2675232019973919, t_pyodbc.proc=0.009828091000002814\n",
      "col='datetime2': t_bcp.perf=0.29006938901147805, t_bcp.proc=0.00572020300000986\n",
      "col='datetime2': t_pyodbc.perf=0.27400897300685756, t_pyodbc.proc=0.006017803000020194\n",
      "col='unicode': t_bcp.perf=0.6288157369999681, t_bcp.proc=0.010553720999979532\n",
      "col='unicode': t_pyodbc.perf=0.4609319349983707, t_pyodbc.proc=0.03901846299999079\n",
      "all columns: t_bcp.perf=0.6038581109896768, t_bcp.proc=0.033963721999981544\n",
      "all columns: t_pyodbc.perf=0.46340062699164264, t_pyodbc.proc=0.03887189799999646\n"
     ]
    },
    {
     "data": {
      "application/vnd.plotly.v1+json": {
       "config": {
        "plotlyServerURL": "https://plot.ly"
       },
       "data": [
        {
         "name": "bcp perf",
         "type": "bar",
         "x": [
          "Only bigint",
          "Only int",
          "Only bit",
          "Only decimal",
          "Only float",
          "Only date",
          "Only time",
          "Only datetime2",
          "Only unicode",
          "All columns"
         ],
         "y": [
          0.34884182500536554,
          0.3800486129766796,
          0.35386244900291786,
          0.3983426060003694,
          0.327064284007065,
          0.31369118101429194,
          0.3365580620011315,
          0.29006938901147805,
          0.6288157369999681,
          0.6038581109896768
         ]
        },
        {
         "name": "pyodbc perf",
         "type": "bar",
         "x": [
          "Only bigint",
          "Only int",
          "Only bit",
          "Only decimal",
          "Only float",
          "Only date",
          "Only time",
          "Only datetime2",
          "Only unicode",
          "All columns"
         ],
         "y": [
          0.29327608199673705,
          0.26780914299888536,
          0.3072272590070497,
          0.29824599099811167,
          0.2760500660224352,
          0.2859841960016638,
          0.2675232019973919,
          0.27400897300685756,
          0.4609319349983707,
          0.46340062699164264
         ]
        },
        {
         "name": "bcp proc",
         "type": "bar",
         "x": [
          "Only bigint",
          "Only int",
          "Only bit",
          "Only decimal",
          "Only float",
          "Only date",
          "Only time",
          "Only datetime2",
          "Only unicode",
          "All columns"
         ],
         "y": [
          0.008622898999988138,
          0.009693923000014593,
          0.011664160999998785,
          0.013450242999994089,
          0.00817542400000093,
          0.007505693999974028,
          0.008701167999987547,
          0.00572020300000986,
          0.010553720999979532,
          0.033963721999981544
         ]
        },
        {
         "name": "pyodbc proc",
         "type": "bar",
         "x": [
          "Only bigint",
          "Only int",
          "Only bit",
          "Only decimal",
          "Only float",
          "Only date",
          "Only time",
          "Only datetime2",
          "Only unicode",
          "All columns"
         ],
         "y": [
          0.011119887999996081,
          0.01437000199999261,
          0.006273402000005035,
          0.02959976500000039,
          0.007802009999977599,
          0.01234461300001044,
          0.009828091000002814,
          0.006017803000020194,
          0.03901846299999079,
          0.03887189799999646
         ]
        }
       ],
       "layout": {
        "height": 1000,
        "template": {
         "data": {
          "bar": [
           {
            "error_x": {
             "color": "#2a3f5f"
            },
            "error_y": {
             "color": "#2a3f5f"
            },
            "marker": {
             "line": {
              "color": "#E5ECF6",
              "width": 0.5
             },
             "pattern": {
              "fillmode": "overlay",
              "size": 10,
              "solidity": 0.2
             }
            },
            "type": "bar"
           }
          ],
          "barpolar": [
           {
            "marker": {
             "line": {
              "color": "#E5ECF6",
              "width": 0.5
             },
             "pattern": {
              "fillmode": "overlay",
              "size": 10,
              "solidity": 0.2
             }
            },
            "type": "barpolar"
           }
          ],
          "carpet": [
           {
            "aaxis": {
             "endlinecolor": "#2a3f5f",
             "gridcolor": "white",
             "linecolor": "white",
             "minorgridcolor": "white",
             "startlinecolor": "#2a3f5f"
            },
            "baxis": {
             "endlinecolor": "#2a3f5f",
             "gridcolor": "white",
             "linecolor": "white",
             "minorgridcolor": "white",
             "startlinecolor": "#2a3f5f"
            },
            "type": "carpet"
           }
          ],
          "choropleth": [
           {
            "colorbar": {
             "outlinewidth": 0,
             "ticks": ""
            },
            "type": "choropleth"
           }
          ],
          "contour": [
           {
            "colorbar": {
             "outlinewidth": 0,
             "ticks": ""
            },
            "colorscale": [
             [
              0,
              "#0d0887"
             ],
             [
              0.1111111111111111,
              "#46039f"
             ],
             [
              0.2222222222222222,
              "#7201a8"
             ],
             [
              0.3333333333333333,
              "#9c179e"
             ],
             [
              0.4444444444444444,
              "#bd3786"
             ],
             [
              0.5555555555555556,
              "#d8576b"
             ],
             [
              0.6666666666666666,
              "#ed7953"
             ],
             [
              0.7777777777777778,
              "#fb9f3a"
             ],
             [
              0.8888888888888888,
              "#fdca26"
             ],
             [
              1,
              "#f0f921"
             ]
            ],
            "type": "contour"
           }
          ],
          "contourcarpet": [
           {
            "colorbar": {
             "outlinewidth": 0,
             "ticks": ""
            },
            "type": "contourcarpet"
           }
          ],
          "heatmap": [
           {
            "colorbar": {
             "outlinewidth": 0,
             "ticks": ""
            },
            "colorscale": [
             [
              0,
              "#0d0887"
             ],
             [
              0.1111111111111111,
              "#46039f"
             ],
             [
              0.2222222222222222,
              "#7201a8"
             ],
             [
              0.3333333333333333,
              "#9c179e"
             ],
             [
              0.4444444444444444,
              "#bd3786"
             ],
             [
              0.5555555555555556,
              "#d8576b"
             ],
             [
              0.6666666666666666,
              "#ed7953"
             ],
             [
              0.7777777777777778,
              "#fb9f3a"
             ],
             [
              0.8888888888888888,
              "#fdca26"
             ],
             [
              1,
              "#f0f921"
             ]
            ],
            "type": "heatmap"
           }
          ],
          "heatmapgl": [
           {
            "colorbar": {
             "outlinewidth": 0,
             "ticks": ""
            },
            "colorscale": [
             [
              0,
              "#0d0887"
             ],
             [
              0.1111111111111111,
              "#46039f"
             ],
             [
              0.2222222222222222,
              "#7201a8"
             ],
             [
              0.3333333333333333,
              "#9c179e"
             ],
             [
              0.4444444444444444,
              "#bd3786"
             ],
             [
              0.5555555555555556,
              "#d8576b"
             ],
             [
              0.6666666666666666,
              "#ed7953"
             ],
             [
              0.7777777777777778,
              "#fb9f3a"
             ],
             [
              0.8888888888888888,
              "#fdca26"
             ],
             [
              1,
              "#f0f921"
             ]
            ],
            "type": "heatmapgl"
           }
          ],
          "histogram": [
           {
            "marker": {
             "pattern": {
              "fillmode": "overlay",
              "size": 10,
              "solidity": 0.2
             }
            },
            "type": "histogram"
           }
          ],
          "histogram2d": [
           {
            "colorbar": {
             "outlinewidth": 0,
             "ticks": ""
            },
            "colorscale": [
             [
              0,
              "#0d0887"
             ],
             [
              0.1111111111111111,
              "#46039f"
             ],
             [
              0.2222222222222222,
              "#7201a8"
             ],
             [
              0.3333333333333333,
              "#9c179e"
             ],
             [
              0.4444444444444444,
              "#bd3786"
             ],
             [
              0.5555555555555556,
              "#d8576b"
             ],
             [
              0.6666666666666666,
              "#ed7953"
             ],
             [
              0.7777777777777778,
              "#fb9f3a"
             ],
             [
              0.8888888888888888,
              "#fdca26"
             ],
             [
              1,
              "#f0f921"
             ]
            ],
            "type": "histogram2d"
           }
          ],
          "histogram2dcontour": [
           {
            "colorbar": {
             "outlinewidth": 0,
             "ticks": ""
            },
            "colorscale": [
             [
              0,
              "#0d0887"
             ],
             [
              0.1111111111111111,
              "#46039f"
             ],
             [
              0.2222222222222222,
              "#7201a8"
             ],
             [
              0.3333333333333333,
              "#9c179e"
             ],
             [
              0.4444444444444444,
              "#bd3786"
             ],
             [
              0.5555555555555556,
              "#d8576b"
             ],
             [
              0.6666666666666666,
              "#ed7953"
             ],
             [
              0.7777777777777778,
              "#fb9f3a"
             ],
             [
              0.8888888888888888,
              "#fdca26"
             ],
             [
              1,
              "#f0f921"
             ]
            ],
            "type": "histogram2dcontour"
           }
          ],
          "mesh3d": [
           {
            "colorbar": {
             "outlinewidth": 0,
             "ticks": ""
            },
            "type": "mesh3d"
           }
          ],
          "parcoords": [
           {
            "line": {
             "colorbar": {
              "outlinewidth": 0,
              "ticks": ""
             }
            },
            "type": "parcoords"
           }
          ],
          "pie": [
           {
            "automargin": true,
            "type": "pie"
           }
          ],
          "scatter": [
           {
            "fillpattern": {
             "fillmode": "overlay",
             "size": 10,
             "solidity": 0.2
            },
            "type": "scatter"
           }
          ],
          "scatter3d": [
           {
            "line": {
             "colorbar": {
              "outlinewidth": 0,
              "ticks": ""
             }
            },
            "marker": {
             "colorbar": {
              "outlinewidth": 0,
              "ticks": ""
             }
            },
            "type": "scatter3d"
           }
          ],
          "scattercarpet": [
           {
            "marker": {
             "colorbar": {
              "outlinewidth": 0,
              "ticks": ""
             }
            },
            "type": "scattercarpet"
           }
          ],
          "scattergeo": [
           {
            "marker": {
             "colorbar": {
              "outlinewidth": 0,
              "ticks": ""
             }
            },
            "type": "scattergeo"
           }
          ],
          "scattergl": [
           {
            "marker": {
             "colorbar": {
              "outlinewidth": 0,
              "ticks": ""
             }
            },
            "type": "scattergl"
           }
          ],
          "scattermapbox": [
           {
            "marker": {
             "colorbar": {
              "outlinewidth": 0,
              "ticks": ""
             }
            },
            "type": "scattermapbox"
           }
          ],
          "scatterpolar": [
           {
            "marker": {
             "colorbar": {
              "outlinewidth": 0,
              "ticks": ""
             }
            },
            "type": "scatterpolar"
           }
          ],
          "scatterpolargl": [
           {
            "marker": {
             "colorbar": {
              "outlinewidth": 0,
              "ticks": ""
             }
            },
            "type": "scatterpolargl"
           }
          ],
          "scatterternary": [
           {
            "marker": {
             "colorbar": {
              "outlinewidth": 0,
              "ticks": ""
             }
            },
            "type": "scatterternary"
           }
          ],
          "surface": [
           {
            "colorbar": {
             "outlinewidth": 0,
             "ticks": ""
            },
            "colorscale": [
             [
              0,
              "#0d0887"
             ],
             [
              0.1111111111111111,
              "#46039f"
             ],
             [
              0.2222222222222222,
              "#7201a8"
             ],
             [
              0.3333333333333333,
              "#9c179e"
             ],
             [
              0.4444444444444444,
              "#bd3786"
             ],
             [
              0.5555555555555556,
              "#d8576b"
             ],
             [
              0.6666666666666666,
              "#ed7953"
             ],
             [
              0.7777777777777778,
              "#fb9f3a"
             ],
             [
              0.8888888888888888,
              "#fdca26"
             ],
             [
              1,
              "#f0f921"
             ]
            ],
            "type": "surface"
           }
          ],
          "table": [
           {
            "cells": {
             "fill": {
              "color": "#EBF0F8"
             },
             "line": {
              "color": "white"
             }
            },
            "header": {
             "fill": {
              "color": "#C8D4E3"
             },
             "line": {
              "color": "white"
             }
            },
            "type": "table"
           }
          ]
         },
         "layout": {
          "annotationdefaults": {
           "arrowcolor": "#2a3f5f",
           "arrowhead": 0,
           "arrowwidth": 1
          },
          "autotypenumbers": "strict",
          "coloraxis": {
           "colorbar": {
            "outlinewidth": 0,
            "ticks": ""
           }
          },
          "colorscale": {
           "diverging": [
            [
             0,
             "#8e0152"
            ],
            [
             0.1,
             "#c51b7d"
            ],
            [
             0.2,
             "#de77ae"
            ],
            [
             0.3,
             "#f1b6da"
            ],
            [
             0.4,
             "#fde0ef"
            ],
            [
             0.5,
             "#f7f7f7"
            ],
            [
             0.6,
             "#e6f5d0"
            ],
            [
             0.7,
             "#b8e186"
            ],
            [
             0.8,
             "#7fbc41"
            ],
            [
             0.9,
             "#4d9221"
            ],
            [
             1,
             "#276419"
            ]
           ],
           "sequential": [
            [
             0,
             "#0d0887"
            ],
            [
             0.1111111111111111,
             "#46039f"
            ],
            [
             0.2222222222222222,
             "#7201a8"
            ],
            [
             0.3333333333333333,
             "#9c179e"
            ],
            [
             0.4444444444444444,
             "#bd3786"
            ],
            [
             0.5555555555555556,
             "#d8576b"
            ],
            [
             0.6666666666666666,
             "#ed7953"
            ],
            [
             0.7777777777777778,
             "#fb9f3a"
            ],
            [
             0.8888888888888888,
             "#fdca26"
            ],
            [
             1,
             "#f0f921"
            ]
           ],
           "sequentialminus": [
            [
             0,
             "#0d0887"
            ],
            [
             0.1111111111111111,
             "#46039f"
            ],
            [
             0.2222222222222222,
             "#7201a8"
            ],
            [
             0.3333333333333333,
             "#9c179e"
            ],
            [
             0.4444444444444444,
             "#bd3786"
            ],
            [
             0.5555555555555556,
             "#d8576b"
            ],
            [
             0.6666666666666666,
             "#ed7953"
            ],
            [
             0.7777777777777778,
             "#fb9f3a"
            ],
            [
             0.8888888888888888,
             "#fdca26"
            ],
            [
             1,
             "#f0f921"
            ]
           ]
          },
          "colorway": [
           "#636efa",
           "#EF553B",
           "#00cc96",
           "#ab63fa",
           "#FFA15A",
           "#19d3f3",
           "#FF6692",
           "#B6E880",
           "#FF97FF",
           "#FECB52"
          ],
          "font": {
           "color": "#2a3f5f"
          },
          "geo": {
           "bgcolor": "white",
           "lakecolor": "white",
           "landcolor": "#E5ECF6",
           "showlakes": true,
           "showland": true,
           "subunitcolor": "white"
          },
          "hoverlabel": {
           "align": "left"
          },
          "hovermode": "closest",
          "mapbox": {
           "style": "light"
          },
          "paper_bgcolor": "white",
          "plot_bgcolor": "#E5ECF6",
          "polar": {
           "angularaxis": {
            "gridcolor": "white",
            "linecolor": "white",
            "ticks": ""
           },
           "bgcolor": "#E5ECF6",
           "radialaxis": {
            "gridcolor": "white",
            "linecolor": "white",
            "ticks": ""
           }
          },
          "scene": {
           "xaxis": {
            "backgroundcolor": "#E5ECF6",
            "gridcolor": "white",
            "gridwidth": 2,
            "linecolor": "white",
            "showbackground": true,
            "ticks": "",
            "zerolinecolor": "white"
           },
           "yaxis": {
            "backgroundcolor": "#E5ECF6",
            "gridcolor": "white",
            "gridwidth": 2,
            "linecolor": "white",
            "showbackground": true,
            "ticks": "",
            "zerolinecolor": "white"
           },
           "zaxis": {
            "backgroundcolor": "#E5ECF6",
            "gridcolor": "white",
            "gridwidth": 2,
            "linecolor": "white",
            "showbackground": true,
            "ticks": "",
            "zerolinecolor": "white"
           }
          },
          "shapedefaults": {
           "line": {
            "color": "#2a3f5f"
           }
          },
          "ternary": {
           "aaxis": {
            "gridcolor": "white",
            "linecolor": "white",
            "ticks": ""
           },
           "baxis": {
            "gridcolor": "white",
            "linecolor": "white",
            "ticks": ""
           },
           "bgcolor": "#E5ECF6",
           "caxis": {
            "gridcolor": "white",
            "linecolor": "white",
            "ticks": ""
           }
          },
          "title": {
           "x": 0.05
          },
          "xaxis": {
           "automargin": true,
           "gridcolor": "white",
           "linecolor": "white",
           "ticks": "",
           "title": {
            "standoff": 15
           },
           "zerolinecolor": "white",
           "zerolinewidth": 2
          },
          "yaxis": {
           "automargin": true,
           "gridcolor": "white",
           "linecolor": "white",
           "ticks": "",
           "title": {
            "standoff": 15
           },
           "zerolinecolor": "white",
           "zerolinewidth": 2
          }
         }
        },
        "yaxis": {
         "title": {
          "text": "Time (s)"
         }
        }
       }
      }
     },
     "metadata": {},
     "output_type": "display_data"
    }
   ],
   "source": [
    "benchmark(list(gen_fns.keys())[:-2], False, 1_000, True)"
   ]
  },
  {
   "cell_type": "markdown",
   "id": "76c6d603",
   "metadata": {},
   "source": [
    "# You win some, you lose some\n",
    "\n",
    "Sadly bcp did not get blessed with a very good implementation for large data, that is cells with more than 8k bytes. For unicode this translates to 4k characters.\n",
    "\n",
    "I have tried a number of tweaks to the bcp insert process, including using wide characters instead of utf-8, importing as csv instead of using native datatypes and doing the same using the `BULK IMPORT` statement instead of bcp. However the situation does not improve.\n",
    "\n",
    "On the plus side, this effect seems to scale linearly with the amount of rows that have cells larger than 8k bytes, so if there are only a few large entries, this will probably not be noticable."
   ]
  },
  {
   "cell_type": "code",
   "execution_count": 13,
   "id": "210d1cfc",
   "metadata": {},
   "outputs": [
    {
     "name": "stdout",
     "output_type": "stream",
     "text": [
      "col='chars_of_length_4000': t_bcp.perf=0.7641439099970739, t_bcp.proc=0.03667466100000638\n",
      "col='chars_of_length_4000': t_pyodbc.perf=1.4015200669819023, t_pyodbc.proc=0.047185344000013174\n",
      "col='chars_of_length_4001': t_bcp.perf=9.121761162998155, t_bcp.proc=0.05076896399998532\n",
      "col='chars_of_length_4001': t_pyodbc.perf=1.1886735489824787, t_pyodbc.proc=0.07327655500000674\n"
     ]
    },
    {
     "data": {
      "application/vnd.plotly.v1+json": {
       "config": {
        "plotlyServerURL": "https://plot.ly"
       },
       "data": [
        {
         "name": "bcp perf",
         "type": "bar",
         "x": [
          "Only chars_of_length_4000",
          "Only chars_of_length_4001"
         ],
         "y": [
          0.7641439099970739,
          9.121761162998155
         ]
        },
        {
         "name": "pyodbc perf",
         "type": "bar",
         "x": [
          "Only chars_of_length_4000",
          "Only chars_of_length_4001"
         ],
         "y": [
          1.4015200669819023,
          1.1886735489824787
         ]
        },
        {
         "name": "bcp proc",
         "type": "bar",
         "x": [
          "Only chars_of_length_4000",
          "Only chars_of_length_4001"
         ],
         "y": [
          0.03667466100000638,
          0.05076896399998532
         ]
        },
        {
         "name": "pyodbc proc",
         "type": "bar",
         "x": [
          "Only chars_of_length_4000",
          "Only chars_of_length_4001"
         ],
         "y": [
          0.047185344000013174,
          0.07327655500000674
         ]
        }
       ],
       "layout": {
        "height": 1000,
        "template": {
         "data": {
          "bar": [
           {
            "error_x": {
             "color": "#2a3f5f"
            },
            "error_y": {
             "color": "#2a3f5f"
            },
            "marker": {
             "line": {
              "color": "#E5ECF6",
              "width": 0.5
             },
             "pattern": {
              "fillmode": "overlay",
              "size": 10,
              "solidity": 0.2
             }
            },
            "type": "bar"
           }
          ],
          "barpolar": [
           {
            "marker": {
             "line": {
              "color": "#E5ECF6",
              "width": 0.5
             },
             "pattern": {
              "fillmode": "overlay",
              "size": 10,
              "solidity": 0.2
             }
            },
            "type": "barpolar"
           }
          ],
          "carpet": [
           {
            "aaxis": {
             "endlinecolor": "#2a3f5f",
             "gridcolor": "white",
             "linecolor": "white",
             "minorgridcolor": "white",
             "startlinecolor": "#2a3f5f"
            },
            "baxis": {
             "endlinecolor": "#2a3f5f",
             "gridcolor": "white",
             "linecolor": "white",
             "minorgridcolor": "white",
             "startlinecolor": "#2a3f5f"
            },
            "type": "carpet"
           }
          ],
          "choropleth": [
           {
            "colorbar": {
             "outlinewidth": 0,
             "ticks": ""
            },
            "type": "choropleth"
           }
          ],
          "contour": [
           {
            "colorbar": {
             "outlinewidth": 0,
             "ticks": ""
            },
            "colorscale": [
             [
              0,
              "#0d0887"
             ],
             [
              0.1111111111111111,
              "#46039f"
             ],
             [
              0.2222222222222222,
              "#7201a8"
             ],
             [
              0.3333333333333333,
              "#9c179e"
             ],
             [
              0.4444444444444444,
              "#bd3786"
             ],
             [
              0.5555555555555556,
              "#d8576b"
             ],
             [
              0.6666666666666666,
              "#ed7953"
             ],
             [
              0.7777777777777778,
              "#fb9f3a"
             ],
             [
              0.8888888888888888,
              "#fdca26"
             ],
             [
              1,
              "#f0f921"
             ]
            ],
            "type": "contour"
           }
          ],
          "contourcarpet": [
           {
            "colorbar": {
             "outlinewidth": 0,
             "ticks": ""
            },
            "type": "contourcarpet"
           }
          ],
          "heatmap": [
           {
            "colorbar": {
             "outlinewidth": 0,
             "ticks": ""
            },
            "colorscale": [
             [
              0,
              "#0d0887"
             ],
             [
              0.1111111111111111,
              "#46039f"
             ],
             [
              0.2222222222222222,
              "#7201a8"
             ],
             [
              0.3333333333333333,
              "#9c179e"
             ],
             [
              0.4444444444444444,
              "#bd3786"
             ],
             [
              0.5555555555555556,
              "#d8576b"
             ],
             [
              0.6666666666666666,
              "#ed7953"
             ],
             [
              0.7777777777777778,
              "#fb9f3a"
             ],
             [
              0.8888888888888888,
              "#fdca26"
             ],
             [
              1,
              "#f0f921"
             ]
            ],
            "type": "heatmap"
           }
          ],
          "heatmapgl": [
           {
            "colorbar": {
             "outlinewidth": 0,
             "ticks": ""
            },
            "colorscale": [
             [
              0,
              "#0d0887"
             ],
             [
              0.1111111111111111,
              "#46039f"
             ],
             [
              0.2222222222222222,
              "#7201a8"
             ],
             [
              0.3333333333333333,
              "#9c179e"
             ],
             [
              0.4444444444444444,
              "#bd3786"
             ],
             [
              0.5555555555555556,
              "#d8576b"
             ],
             [
              0.6666666666666666,
              "#ed7953"
             ],
             [
              0.7777777777777778,
              "#fb9f3a"
             ],
             [
              0.8888888888888888,
              "#fdca26"
             ],
             [
              1,
              "#f0f921"
             ]
            ],
            "type": "heatmapgl"
           }
          ],
          "histogram": [
           {
            "marker": {
             "pattern": {
              "fillmode": "overlay",
              "size": 10,
              "solidity": 0.2
             }
            },
            "type": "histogram"
           }
          ],
          "histogram2d": [
           {
            "colorbar": {
             "outlinewidth": 0,
             "ticks": ""
            },
            "colorscale": [
             [
              0,
              "#0d0887"
             ],
             [
              0.1111111111111111,
              "#46039f"
             ],
             [
              0.2222222222222222,
              "#7201a8"
             ],
             [
              0.3333333333333333,
              "#9c179e"
             ],
             [
              0.4444444444444444,
              "#bd3786"
             ],
             [
              0.5555555555555556,
              "#d8576b"
             ],
             [
              0.6666666666666666,
              "#ed7953"
             ],
             [
              0.7777777777777778,
              "#fb9f3a"
             ],
             [
              0.8888888888888888,
              "#fdca26"
             ],
             [
              1,
              "#f0f921"
             ]
            ],
            "type": "histogram2d"
           }
          ],
          "histogram2dcontour": [
           {
            "colorbar": {
             "outlinewidth": 0,
             "ticks": ""
            },
            "colorscale": [
             [
              0,
              "#0d0887"
             ],
             [
              0.1111111111111111,
              "#46039f"
             ],
             [
              0.2222222222222222,
              "#7201a8"
             ],
             [
              0.3333333333333333,
              "#9c179e"
             ],
             [
              0.4444444444444444,
              "#bd3786"
             ],
             [
              0.5555555555555556,
              "#d8576b"
             ],
             [
              0.6666666666666666,
              "#ed7953"
             ],
             [
              0.7777777777777778,
              "#fb9f3a"
             ],
             [
              0.8888888888888888,
              "#fdca26"
             ],
             [
              1,
              "#f0f921"
             ]
            ],
            "type": "histogram2dcontour"
           }
          ],
          "mesh3d": [
           {
            "colorbar": {
             "outlinewidth": 0,
             "ticks": ""
            },
            "type": "mesh3d"
           }
          ],
          "parcoords": [
           {
            "line": {
             "colorbar": {
              "outlinewidth": 0,
              "ticks": ""
             }
            },
            "type": "parcoords"
           }
          ],
          "pie": [
           {
            "automargin": true,
            "type": "pie"
           }
          ],
          "scatter": [
           {
            "fillpattern": {
             "fillmode": "overlay",
             "size": 10,
             "solidity": 0.2
            },
            "type": "scatter"
           }
          ],
          "scatter3d": [
           {
            "line": {
             "colorbar": {
              "outlinewidth": 0,
              "ticks": ""
             }
            },
            "marker": {
             "colorbar": {
              "outlinewidth": 0,
              "ticks": ""
             }
            },
            "type": "scatter3d"
           }
          ],
          "scattercarpet": [
           {
            "marker": {
             "colorbar": {
              "outlinewidth": 0,
              "ticks": ""
             }
            },
            "type": "scattercarpet"
           }
          ],
          "scattergeo": [
           {
            "marker": {
             "colorbar": {
              "outlinewidth": 0,
              "ticks": ""
             }
            },
            "type": "scattergeo"
           }
          ],
          "scattergl": [
           {
            "marker": {
             "colorbar": {
              "outlinewidth": 0,
              "ticks": ""
             }
            },
            "type": "scattergl"
           }
          ],
          "scattermapbox": [
           {
            "marker": {
             "colorbar": {
              "outlinewidth": 0,
              "ticks": ""
             }
            },
            "type": "scattermapbox"
           }
          ],
          "scatterpolar": [
           {
            "marker": {
             "colorbar": {
              "outlinewidth": 0,
              "ticks": ""
             }
            },
            "type": "scatterpolar"
           }
          ],
          "scatterpolargl": [
           {
            "marker": {
             "colorbar": {
              "outlinewidth": 0,
              "ticks": ""
             }
            },
            "type": "scatterpolargl"
           }
          ],
          "scatterternary": [
           {
            "marker": {
             "colorbar": {
              "outlinewidth": 0,
              "ticks": ""
             }
            },
            "type": "scatterternary"
           }
          ],
          "surface": [
           {
            "colorbar": {
             "outlinewidth": 0,
             "ticks": ""
            },
            "colorscale": [
             [
              0,
              "#0d0887"
             ],
             [
              0.1111111111111111,
              "#46039f"
             ],
             [
              0.2222222222222222,
              "#7201a8"
             ],
             [
              0.3333333333333333,
              "#9c179e"
             ],
             [
              0.4444444444444444,
              "#bd3786"
             ],
             [
              0.5555555555555556,
              "#d8576b"
             ],
             [
              0.6666666666666666,
              "#ed7953"
             ],
             [
              0.7777777777777778,
              "#fb9f3a"
             ],
             [
              0.8888888888888888,
              "#fdca26"
             ],
             [
              1,
              "#f0f921"
             ]
            ],
            "type": "surface"
           }
          ],
          "table": [
           {
            "cells": {
             "fill": {
              "color": "#EBF0F8"
             },
             "line": {
              "color": "white"
             }
            },
            "header": {
             "fill": {
              "color": "#C8D4E3"
             },
             "line": {
              "color": "white"
             }
            },
            "type": "table"
           }
          ]
         },
         "layout": {
          "annotationdefaults": {
           "arrowcolor": "#2a3f5f",
           "arrowhead": 0,
           "arrowwidth": 1
          },
          "autotypenumbers": "strict",
          "coloraxis": {
           "colorbar": {
            "outlinewidth": 0,
            "ticks": ""
           }
          },
          "colorscale": {
           "diverging": [
            [
             0,
             "#8e0152"
            ],
            [
             0.1,
             "#c51b7d"
            ],
            [
             0.2,
             "#de77ae"
            ],
            [
             0.3,
             "#f1b6da"
            ],
            [
             0.4,
             "#fde0ef"
            ],
            [
             0.5,
             "#f7f7f7"
            ],
            [
             0.6,
             "#e6f5d0"
            ],
            [
             0.7,
             "#b8e186"
            ],
            [
             0.8,
             "#7fbc41"
            ],
            [
             0.9,
             "#4d9221"
            ],
            [
             1,
             "#276419"
            ]
           ],
           "sequential": [
            [
             0,
             "#0d0887"
            ],
            [
             0.1111111111111111,
             "#46039f"
            ],
            [
             0.2222222222222222,
             "#7201a8"
            ],
            [
             0.3333333333333333,
             "#9c179e"
            ],
            [
             0.4444444444444444,
             "#bd3786"
            ],
            [
             0.5555555555555556,
             "#d8576b"
            ],
            [
             0.6666666666666666,
             "#ed7953"
            ],
            [
             0.7777777777777778,
             "#fb9f3a"
            ],
            [
             0.8888888888888888,
             "#fdca26"
            ],
            [
             1,
             "#f0f921"
            ]
           ],
           "sequentialminus": [
            [
             0,
             "#0d0887"
            ],
            [
             0.1111111111111111,
             "#46039f"
            ],
            [
             0.2222222222222222,
             "#7201a8"
            ],
            [
             0.3333333333333333,
             "#9c179e"
            ],
            [
             0.4444444444444444,
             "#bd3786"
            ],
            [
             0.5555555555555556,
             "#d8576b"
            ],
            [
             0.6666666666666666,
             "#ed7953"
            ],
            [
             0.7777777777777778,
             "#fb9f3a"
            ],
            [
             0.8888888888888888,
             "#fdca26"
            ],
            [
             1,
             "#f0f921"
            ]
           ]
          },
          "colorway": [
           "#636efa",
           "#EF553B",
           "#00cc96",
           "#ab63fa",
           "#FFA15A",
           "#19d3f3",
           "#FF6692",
           "#B6E880",
           "#FF97FF",
           "#FECB52"
          ],
          "font": {
           "color": "#2a3f5f"
          },
          "geo": {
           "bgcolor": "white",
           "lakecolor": "white",
           "landcolor": "#E5ECF6",
           "showlakes": true,
           "showland": true,
           "subunitcolor": "white"
          },
          "hoverlabel": {
           "align": "left"
          },
          "hovermode": "closest",
          "mapbox": {
           "style": "light"
          },
          "paper_bgcolor": "white",
          "plot_bgcolor": "#E5ECF6",
          "polar": {
           "angularaxis": {
            "gridcolor": "white",
            "linecolor": "white",
            "ticks": ""
           },
           "bgcolor": "#E5ECF6",
           "radialaxis": {
            "gridcolor": "white",
            "linecolor": "white",
            "ticks": ""
           }
          },
          "scene": {
           "xaxis": {
            "backgroundcolor": "#E5ECF6",
            "gridcolor": "white",
            "gridwidth": 2,
            "linecolor": "white",
            "showbackground": true,
            "ticks": "",
            "zerolinecolor": "white"
           },
           "yaxis": {
            "backgroundcolor": "#E5ECF6",
            "gridcolor": "white",
            "gridwidth": 2,
            "linecolor": "white",
            "showbackground": true,
            "ticks": "",
            "zerolinecolor": "white"
           },
           "zaxis": {
            "backgroundcolor": "#E5ECF6",
            "gridcolor": "white",
            "gridwidth": 2,
            "linecolor": "white",
            "showbackground": true,
            "ticks": "",
            "zerolinecolor": "white"
           }
          },
          "shapedefaults": {
           "line": {
            "color": "#2a3f5f"
           }
          },
          "ternary": {
           "aaxis": {
            "gridcolor": "white",
            "linecolor": "white",
            "ticks": ""
           },
           "baxis": {
            "gridcolor": "white",
            "linecolor": "white",
            "ticks": ""
           },
           "bgcolor": "#E5ECF6",
           "caxis": {
            "gridcolor": "white",
            "linecolor": "white",
            "ticks": ""
           }
          },
          "title": {
           "x": 0.05
          },
          "xaxis": {
           "automargin": true,
           "gridcolor": "white",
           "linecolor": "white",
           "ticks": "",
           "title": {
            "standoff": 15
           },
           "zerolinecolor": "white",
           "zerolinewidth": 2
          },
          "yaxis": {
           "automargin": true,
           "gridcolor": "white",
           "linecolor": "white",
           "ticks": "",
           "title": {
            "standoff": 15
           },
           "zerolinecolor": "white",
           "zerolinewidth": 2
          }
         }
        },
        "yaxis": {
         "title": {
          "text": "Time (s)"
         }
        }
       }
      }
     },
     "metadata": {},
     "output_type": "display_data"
    }
   ],
   "source": [
    "benchmark(list(gen_fns.keys())[-2:], False, 1_000, False)"
   ]
  },
  {
   "cell_type": "markdown",
   "id": "6b8425bb",
   "metadata": {},
   "source": [
    "# Notes on bandwidth\n",
    "\n",
    "If network bandwidth is the limiting factor, bcp should also come out ahead by a significant margin. Reasons for that are different data types, for example:\n",
    "\n",
    "- For both odbc and bcp, each cell gets an indicator variable. With odbc its size is always 8 bytes, with bcp 1 byte is enough, at least for non char/binary types\n",
    "- Odbc dates send year (2 bytes), month and day (1 byte each) separately, resulting in 4 bytes. bcp uses ordinal dates, so 3 bytes are enough. Same story with datetime\n",
    "- Odbc often treats character data as utf-16, bcp sends data as utf-8 and lets SQL Server translate. This results in half the bytes in many cases\n",
    "- Odbc usually sends decimal data as strings because odbc's numeric data type is less reliable. Bcp is sending decimals using integer encoding"
   ]
  }
 ],
 "metadata": {
  "kernelspec": {
   "display_name": "Python 3 (ipykernel)",
   "language": "python",
   "name": "python3"
  },
  "language_info": {
   "codemirror_mode": {
    "name": "ipython",
    "version": 3
   },
   "file_extension": ".py",
   "mimetype": "text/x-python",
   "name": "python",
   "nbconvert_exporter": "python",
   "pygments_lexer": "ipython3",
   "version": "3.12.1"
  }
 },
 "nbformat": 4,
 "nbformat_minor": 5
}
